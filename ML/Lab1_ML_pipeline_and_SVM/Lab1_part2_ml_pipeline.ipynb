{
 "cells": [
  {
   "cell_type": "markdown",
   "metadata": {
    "nbgrader": {
     "grade": false,
     "grade_id": "cell-86e0de040aac317a",
     "locked": true,
     "schema_version": 2,
     "solution": false
    }
   },
   "source": [
    "# Lab assignment №1, part 2\n",
    "\n",
    "This lab assignment consists of several parts. You are supposed to make some transformations, train some models, estimate the quality of the models and explain your results.\n",
    "\n",
    "Several comments:\n",
    "* Don't hesitate to ask questions, it's a good practice.\n",
    "* No private/public sharing, please. The copied assignments will be graded with 0 points.\n",
    "* Blocks of this lab will be graded separately."
   ]
  },
  {
   "cell_type": "markdown",
   "metadata": {},
   "source": [
    "__*This is the second part of the assignment. First and third parts are waiting for you in the same directory.*__"
   ]
  },
  {
   "cell_type": "markdown",
   "metadata": {
    "nbgrader": {
     "grade": false,
     "grade_id": "cell-512ba712fc0fc065",
     "locked": true,
     "schema_version": 2,
     "solution": false
    }
   },
   "source": [
    "## Part 2. Data preprocessing, model training and evaluation."
   ]
  },
  {
   "cell_type": "markdown",
   "metadata": {
    "nbgrader": {
     "grade": false,
     "grade_id": "cell-b656a4266174b009",
     "locked": true,
     "schema_version": 2,
     "solution": false
    }
   },
   "source": [
    "### 1. Reading the data\n",
    "Today we work with the [dataset](https://archive.ics.uci.edu/ml/datasets/Statlog+%28Vehicle+Silhouettes%29), describing different cars for multiclass ($k=4$) classification problem. The data is available below."
   ]
  },
  {
   "cell_type": "code",
   "execution_count": 1,
   "metadata": {},
   "outputs": [],
   "source": [
    "# If on colab, uncomment the following lines\n",
    "\n",
    "# ! wget https://raw.githubusercontent.com/girafe-ai/ml-mipt/basic_s20/homeworks_basic/Lab1_ML_pipeline_and_SVM/car_data.csv"
   ]
  },
  {
   "cell_type": "code",
   "execution_count": 2,
   "metadata": {
    "nbgrader": {
     "grade": false,
     "grade_id": "cell-eebac6bfdf73d0bc",
     "locked": true,
     "schema_version": 2,
     "solution": false
    }
   },
   "outputs": [
    {
     "name": "stdout",
     "output_type": "stream",
     "text": [
      "(846, 19) (846,)\n",
      "(549, 19) (549,) (297, 19) (297,)\n"
     ]
    }
   ],
   "source": [
    "import pandas as pd\n",
    "import numpy as np\n",
    "from sklearn.model_selection import train_test_split\n",
    "\n",
    "dataset = pd.read_csv('car_data.csv', delimiter=',', header=None).values\n",
    "data = dataset[:, :-1].astype(int)\n",
    "target = dataset[:, -1]\n",
    "\n",
    "print(data.shape, target.shape)\n",
    "\n",
    "X_train, X_test, y_train, y_test = train_test_split(data, target, test_size=0.35)\n",
    "print(X_train.shape, y_train.shape, X_test.shape, y_test.shape)"
   ]
  },
  {
   "cell_type": "markdown",
   "metadata": {
    "nbgrader": {
     "grade": false,
     "grade_id": "cell-88b1a0f688568f2c",
     "locked": true,
     "schema_version": 2,
     "solution": false
    }
   },
   "source": [
    "To get some insights about the dataset, `pandas` might be used. The `train` part is transformed to `pd.DataFrame` below."
   ]
  },
  {
   "cell_type": "code",
   "execution_count": 3,
   "metadata": {},
   "outputs": [
    {
     "data": {
      "text/html": [
       "<div>\n",
       "<style scoped>\n",
       "    .dataframe tbody tr th:only-of-type {\n",
       "        vertical-align: middle;\n",
       "    }\n",
       "\n",
       "    .dataframe tbody tr th {\n",
       "        vertical-align: top;\n",
       "    }\n",
       "\n",
       "    .dataframe thead th {\n",
       "        text-align: right;\n",
       "    }\n",
       "</style>\n",
       "<table border=\"1\" class=\"dataframe\">\n",
       "  <thead>\n",
       "    <tr style=\"text-align: right;\">\n",
       "      <th></th>\n",
       "      <th>0</th>\n",
       "      <th>1</th>\n",
       "      <th>2</th>\n",
       "      <th>3</th>\n",
       "      <th>4</th>\n",
       "      <th>5</th>\n",
       "      <th>6</th>\n",
       "      <th>7</th>\n",
       "      <th>8</th>\n",
       "      <th>9</th>\n",
       "      <th>10</th>\n",
       "      <th>11</th>\n",
       "      <th>12</th>\n",
       "      <th>13</th>\n",
       "      <th>14</th>\n",
       "      <th>15</th>\n",
       "      <th>16</th>\n",
       "      <th>17</th>\n",
       "      <th>18</th>\n",
       "    </tr>\n",
       "  </thead>\n",
       "  <tbody>\n",
       "    <tr>\n",
       "      <th>0</th>\n",
       "      <td>162</td>\n",
       "      <td>98</td>\n",
       "      <td>39</td>\n",
       "      <td>81</td>\n",
       "      <td>191</td>\n",
       "      <td>64</td>\n",
       "      <td>9</td>\n",
       "      <td>166</td>\n",
       "      <td>40</td>\n",
       "      <td>20</td>\n",
       "      <td>138</td>\n",
       "      <td>184</td>\n",
       "      <td>415</td>\n",
       "      <td>131</td>\n",
       "      <td>62</td>\n",
       "      <td>8</td>\n",
       "      <td>19</td>\n",
       "      <td>197</td>\n",
       "      <td>205</td>\n",
       "    </tr>\n",
       "    <tr>\n",
       "      <th>1</th>\n",
       "      <td>283</td>\n",
       "      <td>116</td>\n",
       "      <td>53</td>\n",
       "      <td>110</td>\n",
       "      <td>231</td>\n",
       "      <td>67</td>\n",
       "      <td>12</td>\n",
       "      <td>217</td>\n",
       "      <td>31</td>\n",
       "      <td>24</td>\n",
       "      <td>165</td>\n",
       "      <td>231</td>\n",
       "      <td>692</td>\n",
       "      <td>222</td>\n",
       "      <td>67</td>\n",
       "      <td>16</td>\n",
       "      <td>28</td>\n",
       "      <td>192</td>\n",
       "      <td>206</td>\n",
       "    </tr>\n",
       "    <tr>\n",
       "      <th>2</th>\n",
       "      <td>587</td>\n",
       "      <td>84</td>\n",
       "      <td>38</td>\n",
       "      <td>74</td>\n",
       "      <td>138</td>\n",
       "      <td>57</td>\n",
       "      <td>8</td>\n",
       "      <td>139</td>\n",
       "      <td>49</td>\n",
       "      <td>18</td>\n",
       "      <td>127</td>\n",
       "      <td>160</td>\n",
       "      <td>282</td>\n",
       "      <td>127</td>\n",
       "      <td>72</td>\n",
       "      <td>9</td>\n",
       "      <td>20</td>\n",
       "      <td>183</td>\n",
       "      <td>191</td>\n",
       "    </tr>\n",
       "    <tr>\n",
       "      <th>3</th>\n",
       "      <td>104</td>\n",
       "      <td>102</td>\n",
       "      <td>45</td>\n",
       "      <td>83</td>\n",
       "      <td>198</td>\n",
       "      <td>65</td>\n",
       "      <td>5</td>\n",
       "      <td>194</td>\n",
       "      <td>33</td>\n",
       "      <td>22</td>\n",
       "      <td>146</td>\n",
       "      <td>225</td>\n",
       "      <td>576</td>\n",
       "      <td>167</td>\n",
       "      <td>79</td>\n",
       "      <td>0</td>\n",
       "      <td>27</td>\n",
       "      <td>193</td>\n",
       "      <td>191</td>\n",
       "    </tr>\n",
       "    <tr>\n",
       "      <th>4</th>\n",
       "      <td>631</td>\n",
       "      <td>103</td>\n",
       "      <td>49</td>\n",
       "      <td>107</td>\n",
       "      <td>179</td>\n",
       "      <td>54</td>\n",
       "      <td>12</td>\n",
       "      <td>208</td>\n",
       "      <td>32</td>\n",
       "      <td>24</td>\n",
       "      <td>159</td>\n",
       "      <td>214</td>\n",
       "      <td>644</td>\n",
       "      <td>183</td>\n",
       "      <td>66</td>\n",
       "      <td>1</td>\n",
       "      <td>12</td>\n",
       "      <td>191</td>\n",
       "      <td>200</td>\n",
       "    </tr>\n",
       "    <tr>\n",
       "      <th>5</th>\n",
       "      <td>518</td>\n",
       "      <td>85</td>\n",
       "      <td>40</td>\n",
       "      <td>75</td>\n",
       "      <td>137</td>\n",
       "      <td>56</td>\n",
       "      <td>7</td>\n",
       "      <td>152</td>\n",
       "      <td>44</td>\n",
       "      <td>19</td>\n",
       "      <td>134</td>\n",
       "      <td>173</td>\n",
       "      <td>339</td>\n",
       "      <td>160</td>\n",
       "      <td>76</td>\n",
       "      <td>7</td>\n",
       "      <td>16</td>\n",
       "      <td>182</td>\n",
       "      <td>187</td>\n",
       "    </tr>\n",
       "    <tr>\n",
       "      <th>6</th>\n",
       "      <td>615</td>\n",
       "      <td>88</td>\n",
       "      <td>34</td>\n",
       "      <td>69</td>\n",
       "      <td>152</td>\n",
       "      <td>57</td>\n",
       "      <td>5</td>\n",
       "      <td>138</td>\n",
       "      <td>48</td>\n",
       "      <td>18</td>\n",
       "      <td>122</td>\n",
       "      <td>158</td>\n",
       "      <td>284</td>\n",
       "      <td>120</td>\n",
       "      <td>62</td>\n",
       "      <td>9</td>\n",
       "      <td>29</td>\n",
       "      <td>204</td>\n",
       "      <td>210</td>\n",
       "    </tr>\n",
       "    <tr>\n",
       "      <th>7</th>\n",
       "      <td>744</td>\n",
       "      <td>96</td>\n",
       "      <td>46</td>\n",
       "      <td>88</td>\n",
       "      <td>174</td>\n",
       "      <td>68</td>\n",
       "      <td>10</td>\n",
       "      <td>155</td>\n",
       "      <td>43</td>\n",
       "      <td>19</td>\n",
       "      <td>148</td>\n",
       "      <td>173</td>\n",
       "      <td>354</td>\n",
       "      <td>182</td>\n",
       "      <td>69</td>\n",
       "      <td>14</td>\n",
       "      <td>15</td>\n",
       "      <td>194</td>\n",
       "      <td>202</td>\n",
       "    </tr>\n",
       "    <tr>\n",
       "      <th>8</th>\n",
       "      <td>438</td>\n",
       "      <td>91</td>\n",
       "      <td>49</td>\n",
       "      <td>86</td>\n",
       "      <td>195</td>\n",
       "      <td>63</td>\n",
       "      <td>8</td>\n",
       "      <td>177</td>\n",
       "      <td>37</td>\n",
       "      <td>21</td>\n",
       "      <td>156</td>\n",
       "      <td>203</td>\n",
       "      <td>473</td>\n",
       "      <td>201</td>\n",
       "      <td>67</td>\n",
       "      <td>7</td>\n",
       "      <td>5</td>\n",
       "      <td>192</td>\n",
       "      <td>198</td>\n",
       "    </tr>\n",
       "    <tr>\n",
       "      <th>9</th>\n",
       "      <td>4</td>\n",
       "      <td>85</td>\n",
       "      <td>44</td>\n",
       "      <td>70</td>\n",
       "      <td>205</td>\n",
       "      <td>103</td>\n",
       "      <td>52</td>\n",
       "      <td>149</td>\n",
       "      <td>45</td>\n",
       "      <td>19</td>\n",
       "      <td>144</td>\n",
       "      <td>241</td>\n",
       "      <td>325</td>\n",
       "      <td>188</td>\n",
       "      <td>127</td>\n",
       "      <td>9</td>\n",
       "      <td>11</td>\n",
       "      <td>180</td>\n",
       "      <td>183</td>\n",
       "    </tr>\n",
       "    <tr>\n",
       "      <th>10</th>\n",
       "      <td>308</td>\n",
       "      <td>109</td>\n",
       "      <td>51</td>\n",
       "      <td>100</td>\n",
       "      <td>197</td>\n",
       "      <td>59</td>\n",
       "      <td>10</td>\n",
       "      <td>192</td>\n",
       "      <td>34</td>\n",
       "      <td>22</td>\n",
       "      <td>161</td>\n",
       "      <td>210</td>\n",
       "      <td>553</td>\n",
       "      <td>195</td>\n",
       "      <td>64</td>\n",
       "      <td>14</td>\n",
       "      <td>3</td>\n",
       "      <td>196</td>\n",
       "      <td>202</td>\n",
       "    </tr>\n",
       "    <tr>\n",
       "      <th>11</th>\n",
       "      <td>334</td>\n",
       "      <td>107</td>\n",
       "      <td>57</td>\n",
       "      <td>102</td>\n",
       "      <td>184</td>\n",
       "      <td>55</td>\n",
       "      <td>7</td>\n",
       "      <td>234</td>\n",
       "      <td>28</td>\n",
       "      <td>26</td>\n",
       "      <td>171</td>\n",
       "      <td>243</td>\n",
       "      <td>822</td>\n",
       "      <td>229</td>\n",
       "      <td>77</td>\n",
       "      <td>7</td>\n",
       "      <td>11</td>\n",
       "      <td>187</td>\n",
       "      <td>187</td>\n",
       "    </tr>\n",
       "    <tr>\n",
       "      <th>12</th>\n",
       "      <td>687</td>\n",
       "      <td>106</td>\n",
       "      <td>57</td>\n",
       "      <td>107</td>\n",
       "      <td>235</td>\n",
       "      <td>67</td>\n",
       "      <td>6</td>\n",
       "      <td>262</td>\n",
       "      <td>26</td>\n",
       "      <td>28</td>\n",
       "      <td>171</td>\n",
       "      <td>285</td>\n",
       "      <td>987</td>\n",
       "      <td>260</td>\n",
       "      <td>86</td>\n",
       "      <td>9</td>\n",
       "      <td>31</td>\n",
       "      <td>180</td>\n",
       "      <td>184</td>\n",
       "    </tr>\n",
       "    <tr>\n",
       "      <th>13</th>\n",
       "      <td>467</td>\n",
       "      <td>96</td>\n",
       "      <td>54</td>\n",
       "      <td>104</td>\n",
       "      <td>175</td>\n",
       "      <td>58</td>\n",
       "      <td>10</td>\n",
       "      <td>215</td>\n",
       "      <td>31</td>\n",
       "      <td>24</td>\n",
       "      <td>175</td>\n",
       "      <td>221</td>\n",
       "      <td>682</td>\n",
       "      <td>222</td>\n",
       "      <td>75</td>\n",
       "      <td>13</td>\n",
       "      <td>23</td>\n",
       "      <td>186</td>\n",
       "      <td>194</td>\n",
       "    </tr>\n",
       "    <tr>\n",
       "      <th>14</th>\n",
       "      <td>485</td>\n",
       "      <td>83</td>\n",
       "      <td>46</td>\n",
       "      <td>71</td>\n",
       "      <td>156</td>\n",
       "      <td>70</td>\n",
       "      <td>6</td>\n",
       "      <td>151</td>\n",
       "      <td>44</td>\n",
       "      <td>19</td>\n",
       "      <td>147</td>\n",
       "      <td>174</td>\n",
       "      <td>338</td>\n",
       "      <td>198</td>\n",
       "      <td>80</td>\n",
       "      <td>3</td>\n",
       "      <td>11</td>\n",
       "      <td>181</td>\n",
       "      <td>186</td>\n",
       "    </tr>\n",
       "  </tbody>\n",
       "</table>\n",
       "</div>"
      ],
      "text/plain": [
       "      0    1   2    3    4    5   6    7   8   9   10   11   12   13   14  15  \\\n",
       "0   162   98  39   81  191   64   9  166  40  20  138  184  415  131   62   8   \n",
       "1   283  116  53  110  231   67  12  217  31  24  165  231  692  222   67  16   \n",
       "2   587   84  38   74  138   57   8  139  49  18  127  160  282  127   72   9   \n",
       "3   104  102  45   83  198   65   5  194  33  22  146  225  576  167   79   0   \n",
       "4   631  103  49  107  179   54  12  208  32  24  159  214  644  183   66   1   \n",
       "5   518   85  40   75  137   56   7  152  44  19  134  173  339  160   76   7   \n",
       "6   615   88  34   69  152   57   5  138  48  18  122  158  284  120   62   9   \n",
       "7   744   96  46   88  174   68  10  155  43  19  148  173  354  182   69  14   \n",
       "8   438   91  49   86  195   63   8  177  37  21  156  203  473  201   67   7   \n",
       "9     4   85  44   70  205  103  52  149  45  19  144  241  325  188  127   9   \n",
       "10  308  109  51  100  197   59  10  192  34  22  161  210  553  195   64  14   \n",
       "11  334  107  57  102  184   55   7  234  28  26  171  243  822  229   77   7   \n",
       "12  687  106  57  107  235   67   6  262  26  28  171  285  987  260   86   9   \n",
       "13  467   96  54  104  175   58  10  215  31  24  175  221  682  222   75  13   \n",
       "14  485   83  46   71  156   70   6  151  44  19  147  174  338  198   80   3   \n",
       "\n",
       "    16   17   18  \n",
       "0   19  197  205  \n",
       "1   28  192  206  \n",
       "2   20  183  191  \n",
       "3   27  193  191  \n",
       "4   12  191  200  \n",
       "5   16  182  187  \n",
       "6   29  204  210  \n",
       "7   15  194  202  \n",
       "8    5  192  198  \n",
       "9   11  180  183  \n",
       "10   3  196  202  \n",
       "11  11  187  187  \n",
       "12  31  180  184  \n",
       "13  23  186  194  \n",
       "14  11  181  186  "
      ]
     },
     "execution_count": 3,
     "metadata": {},
     "output_type": "execute_result"
    }
   ],
   "source": [
    "X_train_pd = pd.DataFrame(X_train)\n",
    "X_test_pd = pd.DataFrame(X_test)\n",
    "\n",
    "# First 15 rows of our dataset.\n",
    "X_train_pd.head(15)"
   ]
  },
  {
   "cell_type": "markdown",
   "metadata": {
    "nbgrader": {
     "grade": false,
     "grade_id": "cell-98e7d91d77d65fcf",
     "locked": true,
     "schema_version": 2,
     "solution": false
    }
   },
   "source": [
    "Methods `describe` and `info` deliver some useful information."
   ]
  },
  {
   "cell_type": "code",
   "execution_count": 4,
   "metadata": {},
   "outputs": [
    {
     "data": {
      "text/html": [
       "<div>\n",
       "<style scoped>\n",
       "    .dataframe tbody tr th:only-of-type {\n",
       "        vertical-align: middle;\n",
       "    }\n",
       "\n",
       "    .dataframe tbody tr th {\n",
       "        vertical-align: top;\n",
       "    }\n",
       "\n",
       "    .dataframe thead th {\n",
       "        text-align: right;\n",
       "    }\n",
       "</style>\n",
       "<table border=\"1\" class=\"dataframe\">\n",
       "  <thead>\n",
       "    <tr style=\"text-align: right;\">\n",
       "      <th></th>\n",
       "      <th>0</th>\n",
       "      <th>1</th>\n",
       "      <th>2</th>\n",
       "      <th>3</th>\n",
       "      <th>4</th>\n",
       "      <th>5</th>\n",
       "      <th>6</th>\n",
       "      <th>7</th>\n",
       "      <th>8</th>\n",
       "      <th>9</th>\n",
       "      <th>10</th>\n",
       "      <th>11</th>\n",
       "      <th>12</th>\n",
       "      <th>13</th>\n",
       "      <th>14</th>\n",
       "      <th>15</th>\n",
       "      <th>16</th>\n",
       "      <th>17</th>\n",
       "      <th>18</th>\n",
       "    </tr>\n",
       "  </thead>\n",
       "  <tbody>\n",
       "    <tr>\n",
       "      <th>count</th>\n",
       "      <td>549.000000</td>\n",
       "      <td>549.000000</td>\n",
       "      <td>549.000000</td>\n",
       "      <td>549.000000</td>\n",
       "      <td>549.000000</td>\n",
       "      <td>549.000000</td>\n",
       "      <td>549.000000</td>\n",
       "      <td>549.000000</td>\n",
       "      <td>549.000000</td>\n",
       "      <td>549.000000</td>\n",
       "      <td>549.000000</td>\n",
       "      <td>549.000000</td>\n",
       "      <td>549.000000</td>\n",
       "      <td>549.000000</td>\n",
       "      <td>549.000000</td>\n",
       "      <td>549.000000</td>\n",
       "      <td>549.000000</td>\n",
       "      <td>549.000000</td>\n",
       "      <td>549.000000</td>\n",
       "    </tr>\n",
       "    <tr>\n",
       "      <th>mean</th>\n",
       "      <td>408.859745</td>\n",
       "      <td>93.730419</td>\n",
       "      <td>45.023679</td>\n",
       "      <td>82.145719</td>\n",
       "      <td>169.633880</td>\n",
       "      <td>62.027322</td>\n",
       "      <td>8.712204</td>\n",
       "      <td>169.546448</td>\n",
       "      <td>40.750455</td>\n",
       "      <td>20.641166</td>\n",
       "      <td>148.446266</td>\n",
       "      <td>189.706740</td>\n",
       "      <td>443.806922</td>\n",
       "      <td>175.845173</td>\n",
       "      <td>72.892532</td>\n",
       "      <td>6.573770</td>\n",
       "      <td>12.329690</td>\n",
       "      <td>188.799636</td>\n",
       "      <td>195.380692</td>\n",
       "    </tr>\n",
       "    <tr>\n",
       "      <th>std</th>\n",
       "      <td>240.055636</td>\n",
       "      <td>8.145137</td>\n",
       "      <td>6.249481</td>\n",
       "      <td>15.429398</td>\n",
       "      <td>34.285284</td>\n",
       "      <td>9.024964</td>\n",
       "      <td>5.442555</td>\n",
       "      <td>33.682070</td>\n",
       "      <td>7.735926</td>\n",
       "      <td>2.646548</td>\n",
       "      <td>14.699277</td>\n",
       "      <td>31.995888</td>\n",
       "      <td>180.623340</td>\n",
       "      <td>32.913175</td>\n",
       "      <td>7.923754</td>\n",
       "      <td>4.907216</td>\n",
       "      <td>8.904125</td>\n",
       "      <td>6.015182</td>\n",
       "      <td>7.375417</td>\n",
       "    </tr>\n",
       "    <tr>\n",
       "      <th>min</th>\n",
       "      <td>0.000000</td>\n",
       "      <td>73.000000</td>\n",
       "      <td>33.000000</td>\n",
       "      <td>40.000000</td>\n",
       "      <td>104.000000</td>\n",
       "      <td>47.000000</td>\n",
       "      <td>2.000000</td>\n",
       "      <td>112.000000</td>\n",
       "      <td>26.000000</td>\n",
       "      <td>17.000000</td>\n",
       "      <td>118.000000</td>\n",
       "      <td>130.000000</td>\n",
       "      <td>184.000000</td>\n",
       "      <td>112.000000</td>\n",
       "      <td>60.000000</td>\n",
       "      <td>0.000000</td>\n",
       "      <td>0.000000</td>\n",
       "      <td>176.000000</td>\n",
       "      <td>181.000000</td>\n",
       "    </tr>\n",
       "    <tr>\n",
       "      <th>25%</th>\n",
       "      <td>206.000000</td>\n",
       "      <td>87.000000</td>\n",
       "      <td>40.000000</td>\n",
       "      <td>70.000000</td>\n",
       "      <td>141.000000</td>\n",
       "      <td>57.000000</td>\n",
       "      <td>7.000000</td>\n",
       "      <td>147.000000</td>\n",
       "      <td>33.000000</td>\n",
       "      <td>19.000000</td>\n",
       "      <td>138.000000</td>\n",
       "      <td>168.000000</td>\n",
       "      <td>321.000000</td>\n",
       "      <td>151.000000</td>\n",
       "      <td>68.000000</td>\n",
       "      <td>3.000000</td>\n",
       "      <td>5.000000</td>\n",
       "      <td>184.000000</td>\n",
       "      <td>190.000000</td>\n",
       "    </tr>\n",
       "    <tr>\n",
       "      <th>50%</th>\n",
       "      <td>409.000000</td>\n",
       "      <td>93.000000</td>\n",
       "      <td>44.000000</td>\n",
       "      <td>80.000000</td>\n",
       "      <td>167.000000</td>\n",
       "      <td>61.000000</td>\n",
       "      <td>8.000000</td>\n",
       "      <td>157.000000</td>\n",
       "      <td>43.000000</td>\n",
       "      <td>20.000000</td>\n",
       "      <td>146.000000</td>\n",
       "      <td>179.000000</td>\n",
       "      <td>363.000000</td>\n",
       "      <td>174.000000</td>\n",
       "      <td>72.000000</td>\n",
       "      <td>6.000000</td>\n",
       "      <td>11.000000</td>\n",
       "      <td>188.000000</td>\n",
       "      <td>196.000000</td>\n",
       "    </tr>\n",
       "    <tr>\n",
       "      <th>75%</th>\n",
       "      <td>615.000000</td>\n",
       "      <td>100.000000</td>\n",
       "      <td>50.000000</td>\n",
       "      <td>98.000000</td>\n",
       "      <td>195.000000</td>\n",
       "      <td>66.000000</td>\n",
       "      <td>10.000000</td>\n",
       "      <td>199.000000</td>\n",
       "      <td>46.000000</td>\n",
       "      <td>23.000000</td>\n",
       "      <td>160.000000</td>\n",
       "      <td>217.000000</td>\n",
       "      <td>595.000000</td>\n",
       "      <td>200.000000</td>\n",
       "      <td>76.000000</td>\n",
       "      <td>10.000000</td>\n",
       "      <td>18.000000</td>\n",
       "      <td>193.000000</td>\n",
       "      <td>201.000000</td>\n",
       "    </tr>\n",
       "    <tr>\n",
       "      <th>max</th>\n",
       "      <td>844.000000</td>\n",
       "      <td>119.000000</td>\n",
       "      <td>59.000000</td>\n",
       "      <td>110.000000</td>\n",
       "      <td>333.000000</td>\n",
       "      <td>138.000000</td>\n",
       "      <td>55.000000</td>\n",
       "      <td>265.000000</td>\n",
       "      <td>61.000000</td>\n",
       "      <td>29.000000</td>\n",
       "      <td>188.000000</td>\n",
       "      <td>320.000000</td>\n",
       "      <td>1018.000000</td>\n",
       "      <td>268.000000</td>\n",
       "      <td>135.000000</td>\n",
       "      <td>22.000000</td>\n",
       "      <td>40.000000</td>\n",
       "      <td>206.000000</td>\n",
       "      <td>211.000000</td>\n",
       "    </tr>\n",
       "  </tbody>\n",
       "</table>\n",
       "</div>"
      ],
      "text/plain": [
       "               0           1           2           3           4           5   \\\n",
       "count  549.000000  549.000000  549.000000  549.000000  549.000000  549.000000   \n",
       "mean   408.859745   93.730419   45.023679   82.145719  169.633880   62.027322   \n",
       "std    240.055636    8.145137    6.249481   15.429398   34.285284    9.024964   \n",
       "min      0.000000   73.000000   33.000000   40.000000  104.000000   47.000000   \n",
       "25%    206.000000   87.000000   40.000000   70.000000  141.000000   57.000000   \n",
       "50%    409.000000   93.000000   44.000000   80.000000  167.000000   61.000000   \n",
       "75%    615.000000  100.000000   50.000000   98.000000  195.000000   66.000000   \n",
       "max    844.000000  119.000000   59.000000  110.000000  333.000000  138.000000   \n",
       "\n",
       "               6           7           8           9           10          11  \\\n",
       "count  549.000000  549.000000  549.000000  549.000000  549.000000  549.000000   \n",
       "mean     8.712204  169.546448   40.750455   20.641166  148.446266  189.706740   \n",
       "std      5.442555   33.682070    7.735926    2.646548   14.699277   31.995888   \n",
       "min      2.000000  112.000000   26.000000   17.000000  118.000000  130.000000   \n",
       "25%      7.000000  147.000000   33.000000   19.000000  138.000000  168.000000   \n",
       "50%      8.000000  157.000000   43.000000   20.000000  146.000000  179.000000   \n",
       "75%     10.000000  199.000000   46.000000   23.000000  160.000000  217.000000   \n",
       "max     55.000000  265.000000   61.000000   29.000000  188.000000  320.000000   \n",
       "\n",
       "                12          13          14          15          16  \\\n",
       "count   549.000000  549.000000  549.000000  549.000000  549.000000   \n",
       "mean    443.806922  175.845173   72.892532    6.573770   12.329690   \n",
       "std     180.623340   32.913175    7.923754    4.907216    8.904125   \n",
       "min     184.000000  112.000000   60.000000    0.000000    0.000000   \n",
       "25%     321.000000  151.000000   68.000000    3.000000    5.000000   \n",
       "50%     363.000000  174.000000   72.000000    6.000000   11.000000   \n",
       "75%     595.000000  200.000000   76.000000   10.000000   18.000000   \n",
       "max    1018.000000  268.000000  135.000000   22.000000   40.000000   \n",
       "\n",
       "               17          18  \n",
       "count  549.000000  549.000000  \n",
       "mean   188.799636  195.380692  \n",
       "std      6.015182    7.375417  \n",
       "min    176.000000  181.000000  \n",
       "25%    184.000000  190.000000  \n",
       "50%    188.000000  196.000000  \n",
       "75%    193.000000  201.000000  \n",
       "max    206.000000  211.000000  "
      ]
     },
     "execution_count": 4,
     "metadata": {},
     "output_type": "execute_result"
    }
   ],
   "source": [
    "X_train_pd.describe()"
   ]
  },
  {
   "cell_type": "code",
   "execution_count": 5,
   "metadata": {},
   "outputs": [
    {
     "name": "stdout",
     "output_type": "stream",
     "text": [
      "<class 'pandas.core.frame.DataFrame'>\n",
      "RangeIndex: 549 entries, 0 to 548\n",
      "Data columns (total 19 columns):\n",
      " #   Column  Non-Null Count  Dtype\n",
      "---  ------  --------------  -----\n",
      " 0   0       549 non-null    int64\n",
      " 1   1       549 non-null    int64\n",
      " 2   2       549 non-null    int64\n",
      " 3   3       549 non-null    int64\n",
      " 4   4       549 non-null    int64\n",
      " 5   5       549 non-null    int64\n",
      " 6   6       549 non-null    int64\n",
      " 7   7       549 non-null    int64\n",
      " 8   8       549 non-null    int64\n",
      " 9   9       549 non-null    int64\n",
      " 10  10      549 non-null    int64\n",
      " 11  11      549 non-null    int64\n",
      " 12  12      549 non-null    int64\n",
      " 13  13      549 non-null    int64\n",
      " 14  14      549 non-null    int64\n",
      " 15  15      549 non-null    int64\n",
      " 16  16      549 non-null    int64\n",
      " 17  17      549 non-null    int64\n",
      " 18  18      549 non-null    int64\n",
      "dtypes: int64(19)\n",
      "memory usage: 81.6 KB\n"
     ]
    }
   ],
   "source": [
    "X_train_pd.info()"
   ]
  },
  {
   "cell_type": "markdown",
   "metadata": {
    "nbgrader": {
     "grade": false,
     "grade_id": "cell-be844269be69c387",
     "locked": true,
     "schema_version": 2,
     "solution": false
    }
   },
   "source": [
    "### 2. Machine Learning pipeline\n",
    "Here you are supposed to perform the desired transformations. Please, explain your results briefly after each task."
   ]
  },
  {
   "cell_type": "markdown",
   "metadata": {},
   "source": [
    "#### 2.0. Data preprocessing\n",
    "* Make some transformations of the dataset (if necessary). Briefly explain the transformations"
   ]
  },
  {
   "cell_type": "markdown",
   "metadata": {},
   "source": [
    "Проведем нормировку параметров, так как далее необходимо построить логистическую регрессию.\n",
    "\n",
    "Фит_трансформ на обучении, трансформ на тесте, чтобы избежать даталика"
   ]
  },
  {
   "cell_type": "code",
   "execution_count": 6,
   "metadata": {
    "nbgrader": {
     "grade": true,
     "grade_id": "cell-a1514aa189a49fca",
     "locked": false,
     "points": 15,
     "schema_version": 2,
     "solution": true
    }
   },
   "outputs": [],
   "source": [
    "import pandas as pd\n",
    "from sklearn import preprocessing\n",
    "\n",
    "min_max_scaler = preprocessing.MinMaxScaler()\n",
    "x_scaled = min_max_scaler.fit_transform(X_train_pd)\n",
    "X_train_pd_scaled = pd.DataFrame(x_scaled)\n",
    "X_test_pd_scaled = pd.DataFrame(min_max_scaler.transform(X_test_pd))"
   ]
  },
  {
   "cell_type": "markdown",
   "metadata": {},
   "source": [
    "#### 2.1. Basic logistic regression\n",
    "* Find optimal hyperparameters for logistic regression with cross-validation on the `train` data (small grid/random search is enough, no need to find the *best* parameters).\n",
    "\n",
    "* Estimate the model quality with `f1` and `accuracy` scores.\n",
    "* Plot a ROC-curve for the trained model. For the multiclass case you might use `scikitplot` library (e.g. `scikitplot.metrics.plot_roc(test_labels, predicted_proba)`).\n",
    "\n",
    "*Note: please, use the following hyperparameters for logistic regression: `multi_class='multinomial'`, `solver='saga'` `tol=1e-3` and ` max_iter=500`.*"
   ]
  },
  {
   "cell_type": "code",
   "execution_count": 7,
   "metadata": {},
   "outputs": [],
   "source": [
    "from sklearn.linear_model import LogisticRegression\n",
    "from sklearn.metrics import roc_auc_score, accuracy_score, f1_score"
   ]
  },
  {
   "cell_type": "code",
   "execution_count": 8,
   "metadata": {},
   "outputs": [],
   "source": [
    "from sklearn.model_selection import ShuffleSplit\n",
    "from sklearn.model_selection import cross_val_score\n",
    "\n",
    "cv = ShuffleSplit(n_splits=5, test_size=0.3, random_state=0)\n"
   ]
  },
  {
   "cell_type": "code",
   "execution_count": 9,
   "metadata": {},
   "outputs": [
    {
     "name": "stdout",
     "output_type": "stream",
     "text": [
      "For regularization coef 0.5 score = 0.5977951607552787\n",
      "For regularization coef 1 score = 0.6291163795935871\n",
      "For regularization coef 1.5 score = 0.6655956942932345\n",
      "For regularization coef 2 score = 0.6773159611005879\n",
      "For regularization coef 2.5 score = 0.6875011809666781\n",
      "For regularization coef 3 score = 0.7039546131363271\n",
      "For regularization coef 3.5 score = 0.709100782644608\n",
      "For regularization coef 6 score = 0.7178000781150506\n"
     ]
    }
   ],
   "source": [
    "# Проведем подбор гиперпараметров с помощью крос валидации\n",
    "\n",
    "for i in [0.5,1,1.5,2,2.5,3,3.5,6]:\n",
    "\n",
    "    mod_lin = LogisticRegression(multi_class='multinomial', solver='saga', tol=1e-3, max_iter=500, C = i)\n",
    "    \n",
    "    print(f'For regularization coef {i} score = {np.mean(cross_val_score(mod_lin, X_train_pd_scaled, y_train, cv=cv, scoring=\"f1_macro\"))}')"
   ]
  },
  {
   "cell_type": "code",
   "execution_count": 10,
   "metadata": {},
   "outputs": [],
   "source": [
    "mod_lin = LogisticRegression(multi_class='multinomial', solver='saga', tol=1e-3, max_iter=500, C = 6)\n",
    "mod_lin.fit(X_train_pd_scaled,y_train)\n",
    "\n",
    "y_pred = mod_lin.predict(X_test_pd_scaled)\n",
    "y_pred_proba = mod_lin.predict_proba(X_test_pd_scaled)"
   ]
  },
  {
   "cell_type": "code",
   "execution_count": 11,
   "metadata": {},
   "outputs": [
    {
     "data": {
      "text/plain": [
       "array([['bus', 78],\n",
       "       ['opel', 59],\n",
       "       ['saab', 75],\n",
       "       ['van', 85]], dtype=object)"
      ]
     },
     "execution_count": 11,
     "metadata": {},
     "output_type": "execute_result"
    }
   ],
   "source": [
    "# Проверим баланс классов\n",
    "\n",
    "np.asarray(np.unique(y_pred, return_counts=True)).T"
   ]
  },
  {
   "cell_type": "code",
   "execution_count": 12,
   "metadata": {},
   "outputs": [
    {
     "name": "stdout",
     "output_type": "stream",
     "text": [
      "accuracy_score:  0.7306397306397306\n",
      "f1_score:  0.7167476617893158\n",
      "roc_auc_score:  0.9287880576250593\n"
     ]
    }
   ],
   "source": [
    "print('accuracy_score: ',accuracy_score(y_test, y_pred))\n",
    "print('f1_score: ',f1_score(y_test, y_pred, average='weighted'))\n",
    "print('roc_auc_score: ',roc_auc_score(y_test, \n",
    "                                      y_pred_proba,\n",
    "                                      multi_class = 'ovo'))"
   ]
  },
  {
   "cell_type": "code",
   "execution_count": 19,
   "metadata": {},
   "outputs": [
    {
     "data": {
      "text/plain": [
       "array(['bus', 'van', 'bus', 'opel', 'van', 'opel', 'opel', 'bus', 'saab',\n",
       "       'bus', 'opel', 'opel', 'saab', 'saab', 'van', 'opel', 'bus', 'van',\n",
       "       'van', 'bus', 'saab', 'opel', 'bus', 'bus', 'saab', 'saab', 'saab',\n",
       "       'opel', 'van', 'saab', 'opel', 'bus', 'saab', 'saab', 'saab',\n",
       "       'opel', 'opel', 'saab', 'van', 'opel', 'opel', 'saab', 'saab',\n",
       "       'bus', 'van', 'saab', 'saab', 'saab', 'bus', 'opel', 'van', 'saab',\n",
       "       'opel', 'saab', 'opel', 'saab', 'opel', 'saab', 'van', 'opel',\n",
       "       'opel', 'bus', 'bus', 'opel', 'van', 'opel', 'saab', 'van', 'saab',\n",
       "       'saab', 'opel', 'van', 'bus', 'opel', 'opel', 'saab', 'bus', 'bus',\n",
       "       'bus', 'saab', 'saab', 'saab', 'bus', 'van', 'saab', 'van', 'opel',\n",
       "       'van', 'opel', 'van', 'opel', 'saab', 'van', 'opel', 'saab',\n",
       "       'saab', 'van', 'van', 'van', 'opel', 'bus', 'opel', 'opel', 'opel',\n",
       "       'opel', 'saab', 'opel', 'bus', 'van', 'saab', 'van', 'saab', 'bus',\n",
       "       'van', 'saab', 'opel', 'saab', 'van', 'opel', 'bus', 'bus', 'opel',\n",
       "       'van', 'opel', 'bus', 'saab', 'van', 'van', 'van', 'saab', 'van',\n",
       "       'van', 'saab', 'saab', 'saab', 'opel', 'saab', 'bus', 'bus',\n",
       "       'opel', 'bus', 'saab', 'opel', 'van', 'bus', 'van', 'opel', 'van',\n",
       "       'van', 'opel', 'van', 'van', 'saab', 'opel', 'opel', 'bus', 'opel',\n",
       "       'van', 'opel', 'opel', 'bus', 'bus', 'bus', 'van', 'opel', 'opel',\n",
       "       'saab', 'bus', 'bus', 'van', 'opel', 'saab', 'saab', 'saab',\n",
       "       'opel', 'saab', 'bus', 'saab', 'saab', 'bus', 'saab', 'saab',\n",
       "       'opel', 'van', 'van', 'opel', 'van', 'saab', 'bus', 'saab', 'van',\n",
       "       'opel', 'saab', 'bus', 'van', 'bus', 'opel', 'saab', 'bus', 'opel',\n",
       "       'saab', 'van', 'van', 'bus', 'saab', 'bus', 'saab', 'saab', 'bus',\n",
       "       'van', 'opel', 'van', 'opel', 'opel', 'opel', 'van', 'van', 'van',\n",
       "       'van', 'van', 'opel', 'van', 'bus', 'saab', 'bus', 'bus', 'bus',\n",
       "       'saab', 'opel', 'van', 'bus', 'bus', 'opel', 'opel', 'opel',\n",
       "       'saab', 'van', 'opel', 'opel', 'van', 'bus', 'saab', 'bus', 'van',\n",
       "       'opel', 'van', 'opel', 'van', 'saab', 'bus', 'bus', 'saab', 'saab',\n",
       "       'bus', 'saab', 'opel', 'van', 'bus', 'van', 'bus', 'van', 'van',\n",
       "       'opel', 'saab', 'saab', 'bus', 'van', 'saab', 'bus', 'opel',\n",
       "       'opel', 'bus', 'opel', 'bus', 'opel', 'opel', 'saab', 'saab',\n",
       "       'van', 'saab', 'van', 'saab', 'opel', 'van', 'opel', 'opel',\n",
       "       'saab', 'saab', 'opel', 'saab', 'bus', 'bus', 'saab', 'saab',\n",
       "       'opel', 'van', 'bus'], dtype=object)"
      ]
     },
     "execution_count": 19,
     "metadata": {},
     "output_type": "execute_result"
    }
   ],
   "source": [
    "y_test"
   ]
  },
  {
   "cell_type": "code",
   "execution_count": 18,
   "metadata": {},
   "outputs": [
    {
     "data": {
      "text/plain": [
       "array(['bus', 'van', 'bus', 'bus', 'van', 'opel', 'saab', 'bus', 'opel',\n",
       "       'van', 'opel', 'saab', 'opel', 'saab', 'van', 'saab', 'bus', 'van',\n",
       "       'van', 'bus', 'saab', 'opel', 'bus', 'bus', 'saab', 'saab', 'saab',\n",
       "       'saab', 'van', 'saab', 'opel', 'bus', 'bus', 'saab', 'saab',\n",
       "       'opel', 'opel', 'saab', 'van', 'opel', 'opel', 'van', 'saab',\n",
       "       'bus', 'van', 'saab', 'saab', 'opel', 'bus', 'saab', 'van', 'saab',\n",
       "       'opel', 'van', 'van', 'saab', 'opel', 'saab', 'van', 'opel', 'bus',\n",
       "       'bus', 'bus', 'saab', 'van', 'bus', 'bus', 'van', 'saab', 'saab',\n",
       "       'opel', 'van', 'bus', 'saab', 'opel', 'van', 'bus', 'bus', 'bus',\n",
       "       'bus', 'saab', 'saab', 'bus', 'van', 'saab', 'van', 'opel', 'van',\n",
       "       'saab', 'van', 'opel', 'bus', 'van', 'opel', 'saab', 'opel', 'van',\n",
       "       'van', 'van', 'van', 'bus', 'saab', 'opel', 'opel', 'van', 'saab',\n",
       "       'saab', 'bus', 'van', 'saab', 'van', 'opel', 'bus', 'van', 'saab',\n",
       "       'saab', 'saab', 'van', 'saab', 'bus', 'opel', 'opel', 'bus',\n",
       "       'opel', 'bus', 'van', 'van', 'van', 'van', 'opel', 'van', 'van',\n",
       "       'saab', 'van', 'saab', 'opel', 'opel', 'bus', 'bus', 'saab', 'bus',\n",
       "       'saab', 'opel', 'van', 'bus', 'van', 'van', 'van', 'van', 'saab',\n",
       "       'van', 'van', 'bus', 'bus', 'opel', 'bus', 'opel', 'van', 'saab',\n",
       "       'opel', 'bus', 'bus', 'bus', 'van', 'opel', 'opel', 'saab', 'bus',\n",
       "       'bus', 'van', 'opel', 'opel', 'saab', 'opel', 'bus', 'saab', 'bus',\n",
       "       'saab', 'opel', 'bus', 'bus', 'saab', 'saab', 'van', 'van', 'saab',\n",
       "       'van', 'opel', 'bus', 'saab', 'van', 'opel', 'van', 'bus', 'van',\n",
       "       'bus', 'bus', 'saab', 'bus', 'opel', 'saab', 'van', 'van', 'bus',\n",
       "       'opel', 'bus', 'saab', 'saab', 'bus', 'van', 'opel', 'van', 'van',\n",
       "       'opel', 'opel', 'van', 'van', 'van', 'van', 'van', 'van', 'van',\n",
       "       'bus', 'saab', 'bus', 'bus', 'bus', 'saab', 'saab', 'van', 'bus',\n",
       "       'bus', 'saab', 'saab', 'saab', 'saab', 'van', 'opel', 'van', 'van',\n",
       "       'bus', 'opel', 'bus', 'van', 'opel', 'van', 'opel', 'van', 'bus',\n",
       "       'bus', 'bus', 'saab', 'saab', 'bus', 'saab', 'opel', 'van', 'bus',\n",
       "       'van', 'bus', 'van', 'van', 'opel', 'opel', 'bus', 'bus', 'van',\n",
       "       'opel', 'bus', 'saab', 'saab', 'bus', 'saab', 'bus', 'bus', 'opel',\n",
       "       'bus', 'opel', 'van', 'saab', 'van', 'saab', 'van', 'van', 'opel',\n",
       "       'van', 'bus', 'saab', 'saab', 'bus', 'saab', 'saab', 'saab',\n",
       "       'opel', 'opel', 'van', 'bus'], dtype=object)"
      ]
     },
     "execution_count": 18,
     "metadata": {},
     "output_type": "execute_result"
    }
   ],
   "source": [
    "y_pred"
   ]
  },
  {
   "cell_type": "code",
   "execution_count": 13,
   "metadata": {},
   "outputs": [],
   "source": [
    "from scikitplot.metrics import plot_roc"
   ]
  },
  {
   "cell_type": "code",
   "execution_count": 14,
   "metadata": {},
   "outputs": [
    {
     "data": {
      "text/plain": [
       "<matplotlib.axes._subplots.AxesSubplot at 0x7fbd351c89a0>"
      ]
     },
     "execution_count": 14,
     "metadata": {},
     "output_type": "execute_result"
    },
    {
     "data": {
      "image/png": "[encoded data removed]",
      "text/plain": [
       "<Figure size 432x288 with 1 Axes>"
      ]
     },
     "metadata": {
      "needs_background": "light"
     },
     "output_type": "display_data"
    }
   ],
   "source": [
    "plot_roc(y_test, y_pred_proba)"
   ]
  },
  {
   "cell_type": "markdown",
   "metadata": {},
   "source": [
    "#### 2.2. PCA: explained variance plot\n",
    "* Apply the PCA to the train part of the data. Build the explaided variance plot. "
   ]
  },
  {
   "cell_type": "code",
   "execution_count": 15,
   "metadata": {
    "nbgrader": {
     "grade": true,
     "grade_id": "cell-c6c614740bce090e",
     "locked": false,
     "points": 10,
     "schema_version": 2,
     "solution": true
    }
   },
   "outputs": [],
   "source": [
    "import seaborn as sns\n",
    "import matplotlib.pyplot as plt\n",
    "import numpy as np\n",
    "import pandas as pd\n",
    "from sklearn.decomposition import PCA"
   ]
  },
  {
   "cell_type": "code",
   "execution_count": 16,
   "metadata": {},
   "outputs": [
    {
     "data": {
      "image/png": "[encoded data removed]",
      "text/plain": [
       "<Figure size 432x288 with 1 Axes>"
      ]
     },
     "metadata": {
      "needs_background": "light"
     },
     "output_type": "display_data"
    }
   ],
   "source": [
    "pca = PCA()\n",
    "pca.fit(X_train_pd_scaled)\n",
    "exp_var_cumul = np.cumsum(pca.explained_variance_ratio_)\n",
    "\n",
    "\n",
    "sns.lineplot(x=range(1, exp_var_cumul.shape[0] + 1), y=exp_var_cumul)\n",
    "plt.show()"
   ]
  },
  {
   "cell_type": "markdown",
   "metadata": {
    "nbgrader": {
     "grade": false,
     "grade_id": "cell-0c1fe666f52fe53c",
     "locked": true,
     "schema_version": 2,
     "solution": false
    }
   },
   "source": [
    "#### 2.3. PCA trasformation\n",
    "* Select the appropriate number of components. Briefly explain your choice. Should you normalize the data?\n",
    "\n",
    "*Use `fit` and `transform` methods to transform the `train` and `test` parts.*"
   ]
  },
  {
   "cell_type": "code",
   "execution_count": 17,
   "metadata": {
    "nbgrader": {
     "grade": true,
     "grade_id": "cell-96ab18d96473ef71",
     "locked": false,
     "points": 5,
     "schema_version": 2,
     "solution": true
    }
   },
   "outputs": [],
   "source": [
    "# Возьмем 10 компонент, так как explained_variance уже достаточно велико\n",
    "\n",
    "pca = PCA(n_components = 10)\n",
    "X_pca_train = pca.fit_transform(X_train_pd_scaled)\n",
    "X_pca_test = pca.transform(X_test_pd_scaled)"
   ]
  },
  {
   "cell_type": "markdown",
   "metadata": {},
   "source": [
    "**Note: From this point `sklearn` [Pipeline](https://scikit-learn.org/stable/modules/compose.html) might be useful to perform transformations on the data. Refer to the [docs](https://scikit-learn.org/stable/modules/generated/sklearn.pipeline.Pipeline.html) for more information.**"
   ]
  },
  {
   "cell_type": "markdown",
   "metadata": {
    "nbgrader": {
     "grade": false,
     "grade_id": "cell-d28b58a35c94e988",
     "locked": true,
     "schema_version": 2,
     "solution": false
    }
   },
   "source": [
    "#### 2.4. Logistic regression on PCA-preprocessed data.\n",
    "* Find optimal hyperparameters for logistic regression with cross-validation on the transformed by PCA `train` data.\n",
    "\n",
    "* Estimate the model quality with `f1` and `accuracy` scores.\n",
    "* Plot a ROC-curve for the trained model. For the multiclass case you might use `scikitplot` library (e.g. `scikitplot.metrics.plot_roc(test_labels, predicted_proba)`).\n",
    "\n",
    "*Note: please, use the following hyperparameters for logistic regression: `multi_class='multinomial'`, `solver='saga'` and `tol=1e-3`*"
   ]
  },
  {
   "cell_type": "code",
   "execution_count": 18,
   "metadata": {
    "nbgrader": {
     "grade": true,
     "grade_id": "cell-12d53ea45258fa82",
     "locked": false,
     "points": 5,
     "schema_version": 2,
     "solution": true
    }
   },
   "outputs": [
    {
     "name": "stdout",
     "output_type": "stream",
     "text": [
      "For regularization coef 0.5 score = 0.6356801993385341\n",
      "For regularization coef 1 score = 0.6578182957859254\n",
      "For regularization coef 1.5 score = 0.688759818723558\n",
      "For regularization coef 2 score = 0.6971547190027084\n",
      "For regularization coef 2.5 score = 0.6958203247625164\n",
      "For regularization coef 3 score = 0.6993372509705268\n",
      "For regularization coef 3.5 score = 0.7013102509647586\n",
      "For regularization coef 6 score = 0.7075181205941895\n"
     ]
    }
   ],
   "source": [
    "cv = ShuffleSplit(n_splits=5, test_size=0.3, random_state=0)\n",
    "\n",
    "# Проведем подбор гиперпараметров с помощью крос валидации\n",
    "\n",
    "for i in [0.5,1,1.5,2,2.5,3,3.5,6]:\n",
    "\n",
    "    mod_lin_pca = LogisticRegression(multi_class='multinomial', solver='saga', tol=1e-3, max_iter=500, C = i)\n",
    "    \n",
    "    print(f'For regularization coef {i} score = {np.mean(cross_val_score(mod_lin_pca, X_pca_train, y_train, cv=cv, scoring=\"f1_macro\"))}')"
   ]
  },
  {
   "cell_type": "code",
   "execution_count": 19,
   "metadata": {},
   "outputs": [],
   "source": [
    "mod_lin_pca = LogisticRegression(multi_class='multinomial', solver='saga', tol=1e-3, max_iter=500, C = 6)\n",
    "mod_lin_pca.fit(X_pca_train,y_train)\n",
    "\n",
    "y_pred_pca = mod_lin_pca.predict(X_pca_test)\n",
    "y_pred_proba_pca = mod_lin_pca.predict_proba(X_pca_test)"
   ]
  },
  {
   "cell_type": "code",
   "execution_count": 20,
   "metadata": {},
   "outputs": [
    {
     "name": "stdout",
     "output_type": "stream",
     "text": [
      "accuracy_score:  0.6835016835016835\n",
      "f1_score:  0.6674699610818526\n",
      "roc_auc_score:  0.8920657428464852\n"
     ]
    }
   ],
   "source": [
    "print('accuracy_score: ',accuracy_score(y_test, y_pred_pca))\n",
    "print('f1_score: ',f1_score(y_test, y_pred_pca, average='weighted'))\n",
    "print('roc_auc_score: ',roc_auc_score(y_test, \n",
    "                                      y_pred_proba_pca,\n",
    "                                      multi_class = 'ovo'))"
   ]
  },
  {
   "cell_type": "code",
   "execution_count": 21,
   "metadata": {},
   "outputs": [
    {
     "data": {
      "text/plain": [
       "<matplotlib.axes._subplots.AxesSubplot at 0x7fbd345ff250>"
      ]
     },
     "execution_count": 21,
     "metadata": {},
     "output_type": "execute_result"
    },
    {
     "data": {
      "image/png": "[encoded data removed]",
      "text/plain": [
       "<Figure size 432x288 with 1 Axes>"
      ]
     },
     "metadata": {
      "needs_background": "light"
     },
     "output_type": "display_data"
    }
   ],
   "source": [
    "plot_roc(y_test, y_pred_proba_pca)"
   ]
  },
  {
   "cell_type": "markdown",
   "metadata": {
    "nbgrader": {
     "grade": false,
     "grade_id": "cell-4fbf16c64076e139",
     "locked": true,
     "schema_version": 2,
     "solution": false
    }
   },
   "source": [
    "#### 2.5. Decision tree\n",
    "* Now train a desicion tree on the same data. Find optimal tree depth (`max_depth`) using cross-validation.\n",
    "\n",
    "* Measure the model quality using the same metrics you used above."
   ]
  },
  {
   "cell_type": "code",
   "execution_count": 22,
   "metadata": {
    "nbgrader": {
     "grade": true,
     "grade_id": "cell-748ed20b51c67fab",
     "locked": false,
     "points": 15,
     "schema_version": 2,
     "solution": true
    }
   },
   "outputs": [],
   "source": [
    "from sklearn.tree import DecisionTreeClassifier"
   ]
  },
  {
   "cell_type": "code",
   "execution_count": 23,
   "metadata": {
    "nbgrader": {
     "grade": true,
     "grade_id": "cell-12d53ea45258fa82",
     "locked": false,
     "points": 5,
     "schema_version": 2,
     "solution": true
    }
   },
   "outputs": [
    {
     "name": "stdout",
     "output_type": "stream",
     "text": [
      "For max_depth 5 score = 0.6602620745797079\n",
      "For max_depth 6 score = 0.6717540359043556\n",
      "For max_depth 7 score = 0.6899461683029541\n",
      "For max_depth 8 score = 0.6684760060931036\n",
      "For max_depth 9 score = 0.6857736187838541\n",
      "For max_depth 10 score = 0.6752258515940732\n",
      "For max_depth 11 score = 0.6864408971306196\n",
      "For max_depth 12 score = 0.6894438845065005\n",
      "For max_depth 13 score = 0.6841582555982777\n",
      "For max_depth 14 score = 0.6841582555982777\n",
      "For max_depth 15 score = 0.6841582555982777\n",
      "For max_depth 16 score = 0.6841582555982777\n",
      "For max_depth 17 score = 0.6841582555982777\n",
      "For max_depth 18 score = 0.6841582555982777\n",
      "For max_depth 19 score = 0.6841582555982777\n"
     ]
    }
   ],
   "source": [
    "cv = ShuffleSplit(n_splits=5, test_size=0.3, random_state=0)\n",
    "\n",
    "# Проведем подбор гиперпараметров с помощью крос валидации\n",
    "\n",
    "for i in range(5,20):\n",
    "\n",
    "    mod_tree = DecisionTreeClassifier(max_depth=i, random_state=1)\n",
    "    \n",
    "    print(f'For max_depth {i} score = {np.mean(cross_val_score(mod_tree, X_train, y_train, cv=cv, scoring=\"f1_macro\"))}')"
   ]
  },
  {
   "cell_type": "code",
   "execution_count": 24,
   "metadata": {},
   "outputs": [],
   "source": [
    "mod_tree = DecisionTreeClassifier(max_depth = 12, random_state=1)\n",
    "mod_tree.fit(X_train,y_train)\n",
    "\n",
    "y_pred = mod_tree.predict(X_test)\n",
    "y_pred_proba = mod_tree.predict_proba(X_test)"
   ]
  },
  {
   "cell_type": "code",
   "execution_count": 25,
   "metadata": {},
   "outputs": [
    {
     "name": "stdout",
     "output_type": "stream",
     "text": [
      "accuracy_score:  0.6734006734006734\n",
      "f1_score:  0.6765755634576922\n",
      "roc_auc_score:  0.7893106106694355\n"
     ]
    }
   ],
   "source": [
    "print('accuracy_score: ',accuracy_score(y_test, y_pred))\n",
    "print('f1_score: ',f1_score(y_test, y_pred, average='weighted'))\n",
    "print('roc_auc_score: ',roc_auc_score(y_test, \n",
    "                                      y_pred_proba,\n",
    "                                      multi_class = 'ovo'))"
   ]
  },
  {
   "cell_type": "code",
   "execution_count": 26,
   "metadata": {},
   "outputs": [
    {
     "data": {
      "text/plain": [
       "<matplotlib.axes._subplots.AxesSubplot at 0x7fbd379fbbe0>"
      ]
     },
     "execution_count": 26,
     "metadata": {},
     "output_type": "execute_result"
    },
    {
     "data": {
      "image/png": "[encoded data removed]",
      "text/plain": [
       "<Figure size 432x288 with 1 Axes>"
      ]
     },
     "metadata": {
      "needs_background": "light"
     },
     "output_type": "display_data"
    }
   ],
   "source": [
    "plot_roc(y_test, y_pred_proba)"
   ]
  },
  {
   "cell_type": "markdown",
   "metadata": {
    "nbgrader": {
     "grade": false,
     "grade_id": "cell-9eadd4d8a03ae67a",
     "locked": true,
     "schema_version": 2,
     "solution": false
    }
   },
   "source": [
    "#### 2.6. Bagging.\n",
    "Here starts the ensembling part.\n",
    "\n",
    "First we will use the __Bagging__ approach. Build an ensemble of $N$ algorithms varying N from $N_{min}=2$ to $N_{max}=100$ (with step 5).\n",
    "\n",
    "We will build two ensembles: of logistic regressions and of decision trees.\n",
    "\n",
    "*Comment: each ensemble should be constructed from models of the same family, so logistic regressions should not be mixed up with decision trees.*\n",
    "\n",
    "\n",
    "*Hint 1: To build a __Bagging__ ensebmle varying the ensemble size efficiently you might generate $N_{max}$ subsets of `train` data (of the same size as the original dataset) using bootstrap procedure once. Then you train a new instance of logistic regression/decision tree with optimal hyperparameters you estimated before on each subset (so you train it from scratch). Finally, to get an ensemble of $N$ models you average the $N$ out of $N_{max}$ models predictions.*\n",
    "\n",
    "*Hint 2: sklearn might help you with this taks. Some appropriate function/class might be out there.*\n",
    "\n",
    "* Plot `f1` and `accuracy` scores plots w.r.t. the size of the ensemble.\n",
    "\n",
    "* Briefly analyse the plot. What is the optimal number of algorithms? Explain your answer.\n",
    "\n",
    "* How do you think, are the hyperparameters for the decision trees you found in 2.5 optimal for trees used in ensemble? "
   ]
  },
  {
   "cell_type": "code",
   "execution_count": 27,
   "metadata": {
    "nbgrader": {
     "grade": true,
     "grade_id": "cell-8fc95a2b206bdae1",
     "locked": false,
     "points": 35,
     "schema_version": 2,
     "solution": true
    }
   },
   "outputs": [],
   "source": [
    "from sklearn.ensemble import BaggingClassifier"
   ]
  },
  {
   "cell_type": "markdown",
   "metadata": {},
   "source": [
    "Linear"
   ]
  },
  {
   "cell_type": "code",
   "execution_count": 28,
   "metadata": {},
   "outputs": [],
   "source": [
    "acc_dict = {}\n",
    "f1_dict = {}\n",
    "for i in range(2,100,5):\n",
    "    linera_bag = BaggingClassifier(base_estimator=mod_lin,\n",
    "                             n_estimators=i, random_state=0, n_jobs=4).fit(X_train_pd_scaled,y_train)\n",
    "\n",
    "    y_pred = linera_bag.predict(X_test_pd_scaled)\n",
    "    \n",
    "    acc_dict[i] = accuracy_score(y_test, y_pred)\n",
    "    f1_dict[i] = f1_score(y_test, y_pred, average='weighted')"
   ]
  },
  {
   "cell_type": "code",
   "execution_count": 29,
   "metadata": {},
   "outputs": [
    {
     "name": "stdout",
     "output_type": "stream",
     "text": [
      "Наилучший (accuracy) ансамбль моделей состоит из 17 моделей\n",
      "Наилучший (f1) ансамбль моделей состоит из 17 моделей\n"
     ]
    }
   ],
   "source": [
    "import operator\n",
    "best_acc  = max(acc_dict.items(), key=operator.itemgetter(1))[0]\n",
    "best_f1 = max(f1_dict.items(), key=operator.itemgetter(1))[0]\n",
    "print(f'Наилучший (accuracy) ансамбль моделей состоит из {best_acc} моделей')\n",
    "print(f'Наилучший (f1) ансамбль моделей состоит из {best_f1} моделей')"
   ]
  },
  {
   "cell_type": "code",
   "execution_count": 30,
   "metadata": {},
   "outputs": [
    {
     "name": "stdout",
     "output_type": "stream",
     "text": [
      "accuracy = 0.7272727272727273\n",
      "f1 = 0.7130257111767695\n"
     ]
    }
   ],
   "source": [
    "print(f'accuracy = {acc_dict[best_acc]}')\n",
    "\n",
    "print(f'f1 = {f1_dict[best_f1]}')"
   ]
  },
  {
   "cell_type": "code",
   "execution_count": 31,
   "metadata": {},
   "outputs": [
    {
     "data": {
      "image/png": "[encoded data removed]",
      "text/plain": [
       "<Figure size 432x288 with 1 Axes>"
      ]
     },
     "metadata": {
      "needs_background": "light"
     },
     "output_type": "display_data"
    }
   ],
   "source": [
    "lists = sorted(f1_dict.items())\n",
    "x_f1, y_f1 = zip(*lists)\n",
    "sns.lineplot(x=range(2,100,5), y=y_f1)\n",
    "plt.show()"
   ]
  },
  {
   "cell_type": "code",
   "execution_count": 32,
   "metadata": {},
   "outputs": [
    {
     "data": {
      "image/png": "[encoded data removed]",
      "text/plain": [
       "<Figure size 432x288 with 1 Axes>"
      ]
     },
     "metadata": {
      "needs_background": "light"
     },
     "output_type": "display_data"
    }
   ],
   "source": [
    "lists = sorted(acc_dict.items())\n",
    "x_acc, y_acc = zip(*lists)\n",
    "sns.lineplot(x=range(2,100,5), y=y_acc)\n",
    "plt.show()"
   ]
  },
  {
   "cell_type": "markdown",
   "metadata": {},
   "source": [
    "Tree"
   ]
  },
  {
   "cell_type": "code",
   "execution_count": 33,
   "metadata": {},
   "outputs": [],
   "source": [
    "acc_dict = {}\n",
    "f1_dict = {}\n",
    "for i in range(2,100,5):\n",
    "    tree_bag = BaggingClassifier(base_estimator=mod_tree,\n",
    "                             n_estimators=i, random_state=0, n_jobs=4).fit(X_train_pd_scaled,y_train)\n",
    "\n",
    "    y_pred = tree_bag.predict(X_test_pd_scaled)\n",
    "    \n",
    "    acc_dict[i] = accuracy_score(y_test, y_pred)\n",
    "    f1_dict[i] = f1_score(y_test, y_pred, average='weighted')"
   ]
  },
  {
   "cell_type": "code",
   "execution_count": 34,
   "metadata": {},
   "outputs": [
    {
     "name": "stdout",
     "output_type": "stream",
     "text": [
      "Наилучший (accuracy) ансамбль моделей состоит из 17 моделей\n",
      "Наилучший (f1) ансамбль моделей состоит из 17 моделей\n"
     ]
    }
   ],
   "source": [
    "import operator\n",
    "\n",
    "print(f'Наилучший (accuracy) ансамбль моделей состоит из {best_acc} моделей')\n",
    "print(f'Наилучший (f1) ансамбль моделей состоит из {best_f1} моделей')"
   ]
  },
  {
   "cell_type": "code",
   "execution_count": 35,
   "metadata": {},
   "outputs": [
    {
     "name": "stdout",
     "output_type": "stream",
     "text": [
      "accuracy = 0.7407407407407407\n",
      "f1 = 0.7350148679923055\n"
     ]
    }
   ],
   "source": [
    "print(f'accuracy = {acc_dict[best_acc]}')\n",
    "\n",
    "print(f'f1 = {f1_dict[best_f1]}')"
   ]
  },
  {
   "cell_type": "code",
   "execution_count": 36,
   "metadata": {},
   "outputs": [
    {
     "data": {
      "image/png": "[encoded data removed]",
      "text/plain": [
       "<Figure size 432x288 with 1 Axes>"
      ]
     },
     "metadata": {
      "needs_background": "light"
     },
     "output_type": "display_data"
    }
   ],
   "source": [
    "lists = sorted(f1_dict.items())\n",
    "x_f1, y_f1 = zip(*lists)\n",
    "sns.lineplot(x=range(2,100,5), y=y_f1)\n",
    "plt.show()"
   ]
  },
  {
   "cell_type": "code",
   "execution_count": 37,
   "metadata": {},
   "outputs": [
    {
     "data": {
      "image/png": "[encoded data removed]",
      "text/plain": [
       "<Figure size 432x288 with 1 Axes>"
      ]
     },
     "metadata": {
      "needs_background": "light"
     },
     "output_type": "display_data"
    }
   ],
   "source": [
    "lists = sorted(acc_dict.items())\n",
    "x_acc, y_acc = zip(*lists)\n",
    "sns.lineplot(x=range(2,100,5), y=y_acc)\n",
    "plt.show()"
   ]
  },
  {
   "cell_type": "markdown",
   "metadata": {},
   "source": [
    "При использовании бегинга на лесах скор возрастает практически линейно, так как мы уменьшаем varianse, а у лесов он как раз большой, а bias маленький"
   ]
  },
  {
   "cell_type": "markdown",
   "metadata": {},
   "source": [
    "На линейных алгоритмах бегинг не имеет смысла, так как varianse и так низкий, а bias бегинг не уберет"
   ]
  },
  {
   "cell_type": "markdown",
   "metadata": {
    "nbgrader": {
     "grade": false,
     "grade_id": "cell-241b7691ab44cbfb",
     "locked": true,
     "schema_version": 2,
     "solution": false
    }
   },
   "source": [
    "#### 2.7. Random Forest\n",
    "Now we will work with the Random Forest (its `sklearn` implementation).\n",
    "\n",
    "* * Plot `f1` and `accuracy` scores plots w.r.t. the number of trees in Random Forest.\n",
    "\n",
    "* What is the optimal number of trees you've got? Is it different from the optimal number of logistic regressions/decision trees in 2.6? Explain the results briefly."
   ]
  },
  {
   "cell_type": "code",
   "execution_count": 38,
   "metadata": {
    "nbgrader": {
     "grade": true,
     "grade_id": "cell-888755d0f3d91620",
     "locked": false,
     "points": 15,
     "schema_version": 2,
     "solution": true
    }
   },
   "outputs": [],
   "source": [
    "from sklearn.ensemble import RandomForestClassifier"
   ]
  },
  {
   "cell_type": "code",
   "execution_count": 39,
   "metadata": {
    "nbgrader": {
     "grade": true,
     "grade_id": "cell-888755d0f3d91620",
     "locked": false,
     "points": 15,
     "schema_version": 2,
     "solution": true
    }
   },
   "outputs": [],
   "source": [
    "acc_dict = {}\n",
    "f1_dict = {}\n",
    "for i in range(2,100,5):\n",
    "    mod_rand_tree = RandomForestClassifier(n_estimators=i ,max_depth = 12, random_state=1)\n",
    "    mod_rand_tree.fit(X_train,y_train)\n",
    "    \n",
    "    y_pred = mod_rand_tree.predict(X_test)\n",
    "\n",
    "    acc_dict[i] = accuracy_score(y_test, y_pred)\n",
    "    f1_dict[i] = f1_score(y_test, y_pred, average='weighted')"
   ]
  },
  {
   "cell_type": "code",
   "execution_count": 40,
   "metadata": {},
   "outputs": [
    {
     "name": "stdout",
     "output_type": "stream",
     "text": [
      "Наилучший (accuracy) RandomForest получает из 27 деревьев, точность составила 0.7878787878787878\n",
      "Наилучший (f1) RandomForest получает из 27 деревьев точность составила 0.7836205853200944\n"
     ]
    }
   ],
   "source": [
    "best_acc  = max(acc_dict.items(), key=operator.itemgetter(1))[0]\n",
    "best_f1 = max(f1_dict.items(), key=operator.itemgetter(1))[0]\n",
    "print(f'Наилучший (accuracy) RandomForest получает из {best_acc} деревьев, точность составила {acc_dict[best_acc]}')\n",
    "print(f'Наилучший (f1) RandomForest получает из {best_f1} деревьев точность составила {f1_dict[best_f1]}')"
   ]
  },
  {
   "cell_type": "code",
   "execution_count": 41,
   "metadata": {},
   "outputs": [
    {
     "data": {
      "image/png": "[encoded data removed]",
      "text/plain": [
       "<Figure size 432x288 with 1 Axes>"
      ]
     },
     "metadata": {
      "needs_background": "light"
     },
     "output_type": "display_data"
    }
   ],
   "source": [
    "lists = sorted(acc_dict.items())\n",
    "x_acc, y_acc = zip(*lists)\n",
    "sns.lineplot(x=range(2,100,5), y=y_acc)\n",
    "plt.show()"
   ]
  },
  {
   "cell_type": "code",
   "execution_count": 42,
   "metadata": {},
   "outputs": [
    {
     "data": {
      "image/png": "[encoded data removed]",
      "text/plain": [
       "<Figure size 432x288 with 1 Axes>"
      ]
     },
     "metadata": {
      "needs_background": "light"
     },
     "output_type": "display_data"
    }
   ],
   "source": [
    "lists = sorted(f1_dict.items())\n",
    "x_f1, y_f1 = zip(*lists)\n",
    "sns.lineplot(x=range(2,100,5), y=y_f1)\n",
    "plt.show()"
   ]
  },
  {
   "cell_type": "markdown",
   "metadata": {},
   "source": [
    "Результат похож на бэгинг, но потребовалось меньше деревьев для достижения схожих результатов"
   ]
  },
  {
   "cell_type": "markdown",
   "metadata": {
    "nbgrader": {
     "grade": false,
     "grade_id": "cell-99191c0852538d4d",
     "locked": true,
     "schema_version": 2,
     "solution": false
    }
   },
   "source": [
    "#### 2.8. Learning curve\n",
    "Your goal is to estimate, how does the model behaviour change with the increase of the `train` dataset size.\n",
    "\n",
    "* Split the training data into 10 equal (almost) parts. Then train the models from above (Logistic regression, Desicion Tree, Random Forest) with optimal hyperparameters you have selected on 1 part, 2 parts (combined, so the train size in increased by 2 times), 3 parts and so on.\n",
    "\n",
    "* Build a plot of `accuracy` and `f1` scores on `test` part, varying the `train` dataset size (so the axes will be score - dataset size.\n",
    "\n",
    "* Analyse the final plot. Can you make any conlusions using it? "
   ]
  },
  {
   "cell_type": "code",
   "execution_count": 48,
   "metadata": {
    "nbgrader": {
     "grade": true,
     "grade_id": "cell-e39bc7e7dff61ff9",
     "locked": false,
     "points": 15,
     "schema_version": 2,
     "solution": true
    }
   },
   "outputs": [],
   "source": [
    "mod_lin = LogisticRegression(multi_class='multinomial', solver='saga', tol=1e-3, max_iter=500, C = 6)\n",
    "mod_tree = DecisionTreeClassifier(max_depth = 12, random_state=1)\n",
    "mod_rand_tree = RandomForestClassifier(n_estimators=27 ,max_depth = 12, random_state=1)"
   ]
  },
  {
   "cell_type": "code",
   "execution_count": 82,
   "metadata": {},
   "outputs": [],
   "source": [
    "import math\n",
    "\n",
    "def spliter(df, n):\n",
    "    \n",
    "    df_dict = dict()\n",
    "    step = math.ceil(df.shape[0]/n)\n",
    "    left = 0\n",
    "    right = step\n",
    "    for i in range(n):\n",
    "        df_dict[i] = df[left:right]\n",
    "        left = right\n",
    "        right += step\n",
    "    return df_dict"
   ]
  },
  {
   "cell_type": "code",
   "execution_count": 97,
   "metadata": {},
   "outputs": [],
   "source": [
    "X_dict = spliter(X_train, 10)\n",
    "y_dict = spliter(y_train, 10)"
   ]
  },
  {
   "cell_type": "code",
   "execution_count": 123,
   "metadata": {},
   "outputs": [],
   "source": [
    "acc_dict_tree = {}\n",
    "f1_dict_tree = {}\n",
    "for i in range(10):\n",
    "    X_concat = np.concatenate([X_dict[j] for j in range(0,i+1)])\n",
    "    y_concat = np.concatenate([y_dict[j] for j in range(0,i+1)])\n",
    "    mod_tree.fit(X_concat, y_concat)\n",
    "    \n",
    "    y_pred = mod_tree.predict(X_test)\n",
    "    acc_dict_tree[i] = accuracy_score(y_test, y_pred)\n",
    "    f1_dict_tree[i] = f1_score(y_test, y_pred, average='weighted')"
   ]
  },
  {
   "cell_type": "code",
   "execution_count": 125,
   "metadata": {},
   "outputs": [],
   "source": [
    "acc_dict_rand_tree = {}\n",
    "f1_dict_rand_tree = {}\n",
    "for i in range(10):\n",
    "    X_concat = np.concatenate([X_dict[j] for j in range(0,i+1)])\n",
    "    y_concat = np.concatenate([y_dict[j] for j in range(0,i+1)])\n",
    "    mod_rand_tree.fit(X_concat, y_concat)\n",
    "    \n",
    "    y_pred = mod_rand_tree.predict(X_test)\n",
    "    acc_dict_rand_tree[i] = accuracy_score(y_test, y_pred)\n",
    "    f1_dict_rand_tree[i] = f1_score(y_test, y_pred, average='weighted')"
   ]
  },
  {
   "cell_type": "code",
   "execution_count": 128,
   "metadata": {},
   "outputs": [],
   "source": [
    "X_dict_scaled = spliter(X_train_pd_scaled, 10)"
   ]
  },
  {
   "cell_type": "code",
   "execution_count": 134,
   "metadata": {},
   "outputs": [],
   "source": [
    "acc_dict_lin = {}\n",
    "f1_dict_lin = {}\n",
    "for i in range(10):\n",
    "    X_concat = np.concatenate([X_dict_scaled[j] for j in range(0,i+1)])\n",
    "    y_concat = np.concatenate([y_dict[j] for j in range(0,i+1)])\n",
    "    mod_lin.fit(X_concat, y_concat)\n",
    "    \n",
    "    y_pred = mod_lin.predict(X_test_pd_scaled)\n",
    "    acc_dict_lin[i] = accuracy_score(y_test, y_pred)\n",
    "    f1_dict_lin[i] = f1_score(y_test, y_pred, average='weighted')"
   ]
  },
  {
   "cell_type": "code",
   "execution_count": 142,
   "metadata": {},
   "outputs": [
    {
     "data": {
      "text/plain": [
       "dict_keys([0, 1, 2, 3, 4, 5, 6, 7, 8, 9])"
      ]
     },
     "execution_count": 142,
     "metadata": {},
     "output_type": "execute_result"
    }
   ],
   "source": [
    "acc_dict_lin.keys()"
   ]
  },
  {
   "cell_type": "code",
   "execution_count": 149,
   "metadata": {},
   "outputs": [],
   "source": [
    "for_plot_acc = pd.DataFrame()\n",
    "for_plot_acc['iteration'] = list(acc_dict_lin.keys())\n",
    "for_plot_acc['tree'] = list(acc_dict_tree.values())\n",
    "for_plot_acc['random_trees'] = list(acc_dict_rand_tree.values())\n",
    "for_plot_acc['linear'] = list(acc_dict_lin.values())"
   ]
  },
  {
   "cell_type": "code",
   "execution_count": 151,
   "metadata": {},
   "outputs": [
    {
     "data": {
      "image/png": "[encoded data removed]",
      "text/plain": [
       "<Figure size 432x288 with 1 Axes>"
      ]
     },
     "metadata": {
      "needs_background": "light"
     },
     "output_type": "display_data"
    }
   ],
   "source": [
    "sns.lineplot('iteration', 'value', hue='variable', \n",
    "             data=pd.melt(for_plot_acc, 'iteration'))\n",
    "plt.show()"
   ]
  },
  {
   "cell_type": "code",
   "execution_count": 152,
   "metadata": {},
   "outputs": [],
   "source": [
    "for_plot_f1 = pd.DataFrame()\n",
    "for_plot_f1['iteration'] = list(f1_dict_lin.keys())\n",
    "for_plot_f1['tree'] = list(f1_dict_tree.values())\n",
    "for_plot_f1['random_trees'] = list(f1_dict_rand_tree.values())\n",
    "for_plot_f1['linear'] = list(f1_dict_lin.values())"
   ]
  },
  {
   "cell_type": "code",
   "execution_count": 153,
   "metadata": {},
   "outputs": [
    {
     "data": {
      "image/png": "[encoded data removed]",
      "text/plain": [
       "<Figure size 432x288 with 1 Axes>"
      ]
     },
     "metadata": {
      "needs_background": "light"
     },
     "output_type": "display_data"
    }
   ],
   "source": [
    "sns.lineplot('iteration', 'value', hue='variable', \n",
    "             data=pd.melt(for_plot_f1, 'iteration'))\n",
    "plt.show()"
   ]
  },
  {
   "cell_type": "markdown",
   "metadata": {},
   "source": [
    "Увеличение выборки способствует увеличению точности.\n",
    "\n",
    "Сильнее всего это заметно на решающем дереве, так как увеличение выборки - это единственный вариант снизить variance.\n",
    "\n",
    "На случайных деревьях эффект ниже, так как variance снижается за счет бутсрапа и случайной выборки фичей.\n",
    "\n",
    "Линейная модель обладает наименьшим эффектом, так как увлеличегие выборки не способствует снижению смещения (к примеру, возможно, есть пропущенная переменная и увеличение кол-ва наблюдений не приеведет к исправлению этого факта)"
   ]
  },
  {
   "cell_type": "code",
   "execution_count": null,
   "metadata": {},
   "outputs": [],
   "source": []
  }
 ],
 "metadata": {
  "celltoolbar": "Create Assignment",
  "kernelspec": {
   "display_name": "Python 3",
   "language": "python",
   "name": "python3"
  },
  "language_info": {
   "codemirror_mode": {
    "name": "ipython",
    "version": 3
   },
   "file_extension": ".py",
   "mimetype": "text/x-python",
   "name": "python",
   "nbconvert_exporter": "python",
   "pygments_lexer": "ipython3",
   "version": "3.8.3"
  },
  "toc": {
   "base_numbering": 1,
   "nav_menu": {},
   "number_sections": false,
   "sideBar": true,
   "skip_h1_title": false,
   "title_cell": "Table of Contents",
   "title_sidebar": "Contents",
   "toc_cell": false,
   "toc_position": {},
   "toc_section_display": true,
   "toc_window_display": false
  }
 },
 "nbformat": 4,
 "nbformat_minor": 4
}
