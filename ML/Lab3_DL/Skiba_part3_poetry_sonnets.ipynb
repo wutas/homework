{
 "cells": [
  {
   "cell_type": "markdown",
   "metadata": {},
   "source": [
    "## Lab 3"
   ]
  },
  {
   "cell_type": "markdown",
   "metadata": {},
   "source": [
    "### Part 3. Poetry generation\n",
    "\n",
    "Let's try to generate some poetry using RNNs. \n",
    "\n",
    "You have several choices here: \n",
    "\n",
    "* The Shakespeare sonnets, file `sonnets.txt` available in the notebook directory.\n",
    "\n",
    "* Роман в стихах \"Евгений Онегин\" Александра Сергеевича Пушкина. В предобработанном виде доступен по [ссылке](https://github.com/attatrol/data_sources/blob/master/onegin.txt).\n",
    "\n",
    "* Some other text source, if it will be approved by the course staff.\n",
    "\n",
    "Text generation can be designed in several steps:\n",
    "    \n",
    "1. Data loading.\n",
    "2. Dictionary generation.\n",
    "3. Data preprocessing.\n",
    "4. Model (neural network) training.\n",
    "5. Text generation (model evaluation).\n"
   ]
  },
  {
   "cell_type": "code",
   "execution_count": 263,
   "metadata": {},
   "outputs": [],
   "source": [
    "import string\n",
    "import os\n",
    "import re\n",
    "import nltk\n",
    "from nltk.tokenize import sent_tokenize, word_tokenize\n",
    "import numpy as np\n",
    "import torch, torch.nn as nn\n",
    "import torch.nn.functional as F\n",
    "import matplotlib.pyplot as plt\n",
    "from nltk.tokenize import RegexpTokenizer\n",
    "tokenizer = RegexpTokenizer('\\w+')\n",
    "\n",
    "\n",
    "from IPython.display import clear_output\n",
    "from random import sample"
   ]
  },
  {
   "cell_type": "markdown",
   "metadata": {},
   "source": [
    "### Data loading: Shakespeare"
   ]
  },
  {
   "cell_type": "markdown",
   "metadata": {},
   "source": [
    "Shakespeare sonnets are awailable at this [link](http://www.gutenberg.org/ebooks/1041?msg=welcome_stranger). In addition, they are stored in the same directory as this notebook (`sonnetes.txt`). Simple preprocessing is already done for you in the next cell: all technical info is dropped."
   ]
  },
  {
   "cell_type": "markdown",
   "metadata": {},
   "source": [
    "In opposite to the in-class practice, this time we want to predict complex text. Let's reduce the complexity of the task and lowercase all the symbols.\n",
    "\n",
    "Now variable `text` is a list of strings. Join all the strings into one and lowercase it."
   ]
  },
  {
   "cell_type": "markdown",
   "metadata": {},
   "source": [
    "### Data loading: \"sonnets\"\n"
   ]
  },
  {
   "cell_type": "code",
   "execution_count": 698,
   "metadata": {},
   "outputs": [],
   "source": [
    "with open('sonnets.txt', 'r') as iofile:\n",
    "    text = iofile.readlines()\n",
    "text = text[45:2661]"
   ]
  },
  {
   "cell_type": "markdown",
   "metadata": {},
   "source": [
    "In opposite to the in-class practice, this time we want to predict complex text. Let's reduce the complexity of the task and lowercase all the symbols.\n",
    "\n",
    "Now variable `text` is a list of strings. Join all the strings into one and lowercase it."
   ]
  },
  {
   "cell_type": "code",
   "execution_count": 699,
   "metadata": {},
   "outputs": [],
   "source": [
    "text = [re.sub(r\"[^a-z]\", \" \", string.lower()) for string in text]\n",
    "\n",
    "text = [re.sub(r\"\\s+\", \" \", string)[:-1] for string in text if string]\n",
    "\n",
    "text = [string[1:]+'' for string in text if len(string) > 5]"
   ]
  },
  {
   "cell_type": "code",
   "execution_count": 700,
   "metadata": {},
   "outputs": [],
   "source": [
    "text_for_token = ' '.join(text)"
   ]
  },
  {
   "cell_type": "code",
   "execution_count": 701,
   "metadata": {},
   "outputs": [],
   "source": [
    "text = [string.split(' ') for string in text]"
   ]
  },
  {
   "cell_type": "code",
   "execution_count": 702,
   "metadata": {},
   "outputs": [],
   "source": [
    "MAX_LENGTH = max(map(len, text))"
   ]
  },
  {
   "cell_type": "markdown",
   "metadata": {},
   "source": [
    "Put all the characters, that you've seen in the text, into variable `tokens`."
   ]
  },
  {
   "cell_type": "code",
   "execution_count": 703,
   "metadata": {},
   "outputs": [],
   "source": [
    "tokens = word_tokenize(text_for_token)"
   ]
  },
  {
   "cell_type": "code",
   "execution_count": 714,
   "metadata": {},
   "outputs": [],
   "source": [
    "num_tokens = len(tokens)"
   ]
  },
  {
   "cell_type": "markdown",
   "metadata": {},
   "source": [
    "Create dictionary `token_to_idx = {<char>: <index>}` and dictionary `idx_to_token = {<index>: <char>}`"
   ]
  },
  {
   "cell_type": "code",
   "execution_count": 721,
   "metadata": {},
   "outputs": [],
   "source": [
    "token_to_idx = {token: idx for idx, token in enumerate(tokens)}\n",
    "\n",
    "idx_to_token = {idx: token for idx, token in enumerate(tokens)}"
   ]
  },
  {
   "cell_type": "code",
   "execution_count": 722,
   "metadata": {},
   "outputs": [],
   "source": [
    "token_to_idx['cannot'] = max(token_to_idx.values()) + 1\n",
    "idx_to_token[max(idx_to_token.keys()) + 1] = 'cannot'\n",
    "\n",
    "token_to_idx['\\n'] = max(token_to_idx.values()) + 1\n",
    "idx_to_token[max(idx_to_token.keys()) + 1] = '\\n'\n",
    "\n",
    "\n",
    "token_to_idx[''] = max(token_to_idx.values()) + 1\n",
    "idx_to_token[max(idx_to_token.keys()) + 1] = ''"
   ]
  },
  {
   "cell_type": "code",
   "execution_count": 741,
   "metadata": {},
   "outputs": [
    {
     "data": {
      "text/plain": [
       "18236"
      ]
     },
     "execution_count": 741,
     "metadata": {},
     "output_type": "execute_result"
    }
   ],
   "source": [
    "token_to_idx['\\n']"
   ]
  },
  {
   "cell_type": "code",
   "execution_count": 723,
   "metadata": {},
   "outputs": [],
   "source": [
    "def to_matrix(names, max_len=None, pad=token_to_idx[''], dtype='int32', batch_first = True):\n",
    "    \"\"\"Casts a list of names into rnn-digestable matrix\"\"\"\n",
    "    \n",
    "    max_len = max_len or max(map(len, names))\n",
    "    names_ix = np.zeros([len(names), max_len], dtype) + pad\n",
    "\n",
    "    for i in range(len(names)):\n",
    "        line_ix = [token_to_idx[c] for c in names[i]]\n",
    "        names_ix[i, :len(line_ix)] = line_ix\n",
    "        \n",
    "    if not batch_first: # convert [batch, time] into [time, batch]\n",
    "        names_ix = np.transpose(names_ix)\n",
    "\n",
    "    return names_ix"
   ]
  },
  {
   "cell_type": "markdown",
   "metadata": {},
   "source": [
    "*Comment: in this task we have only 38 different tokens, so let's use one-hot encoding.*"
   ]
  },
  {
   "cell_type": "code",
   "execution_count": 724,
   "metadata": {},
   "outputs": [
    {
     "name": "stdout",
     "output_type": "stream",
     "text": [
      "[['from', 'fairest', 'creatures', 'we', 'desire', 'increase'], ['that', 'thereby', 'beauty', 's', 'rose', 'might', 'never', 'die'], ['but', 'as', 'the', 'riper', 'should', 'by', 'time', 'decease'], ['his', 'tender', 'heir', 'might', 'bear', 'his', 'memory'], ['but', 'thou', 'contracted', 'to', 'thine', 'own', 'bright', 'eyes']]\n",
      "tensor([[18194, 18154, 16826, 16318, 18175, 11373, 18237, 18237],\n",
      "        [18223,  1264, 16092, 18227, 12873, 17643, 15293, 14632],\n",
      "        [18211, 17831, 18171, 12004, 17510, 18222, 14810, 11388],\n",
      "        [18131, 16615, 14875, 17643, 16558, 18131, 14311, 18237],\n",
      "        [18211, 17885,  6606, 18143, 17612, 17059, 17372, 18119]])\n"
     ]
    }
   ],
   "source": [
    "print(text[:5])\n",
    "batch_ix = to_matrix(text[:5])\n",
    "batch_ix = torch.tensor(batch_ix, dtype=torch.int64)\n",
    "print(batch_ix)"
   ]
  },
  {
   "cell_type": "markdown",
   "metadata": {},
   "source": [
    "### Building the model"
   ]
  },
  {
   "cell_type": "markdown",
   "metadata": {},
   "source": [
    "Now we want to build and train recurrent neural net which would be able to something similar to Shakespeare's poetry.\n",
    "\n",
    "Let's use vanilla RNN, similar to the one created during the lesson."
   ]
  },
  {
   "cell_type": "code",
   "execution_count": 725,
   "metadata": {},
   "outputs": [],
   "source": [
    "num_tokens = max(idx_to_token.keys()) + 1\n",
    "\n",
    "class CharRNNLoop(nn.Module):\n",
    "    def __init__(self, num_tokens=num_tokens, emb_size=MAX_LENGTH, rnn_num_units=64):\n",
    "        super(self.__class__, self).__init__()\n",
    "        self.num_units = rnn_num_units\n",
    "        self.emb = nn.Embedding(num_tokens, emb_size)\n",
    "        self.rnn = nn.RNN(emb_size, rnn_num_units, batch_first=True)\n",
    "        self.hid_to_logits = nn.Linear(rnn_num_units, num_tokens)\n",
    "        \n",
    "    def forward(self, x, h_0):\n",
    "        assert isinstance(x.data, torch.LongTensor)\n",
    "        h_seq, h_n = self.rnn(self.emb(x), h_0)        \n",
    "        next_logits = self.hid_to_logits(h_seq)\n",
    "        next_logp = F.log_softmax(next_logits, dim=-1)\n",
    "        return h_n, next_logp\n",
    "    \n",
    "    def initial_state(self, batch_size):\n",
    "        \"\"\" return rnn state before it processes first input (aka h0) \"\"\"\n",
    "        return torch.zeros(1, batch_size, self.num_units, requires_grad=True)"
   ]
  },
  {
   "cell_type": "code",
   "execution_count": 726,
   "metadata": {},
   "outputs": [],
   "source": [
    "model = CharRNNLoop()\n",
    "opt = torch.optim.Adam(model.parameters())\n",
    "criterion = nn.NLLLoss()\n",
    "\n",
    "history = []"
   ]
  },
  {
   "cell_type": "code",
   "execution_count": 727,
   "metadata": {},
   "outputs": [
    {
     "data": {
      "image/png": "[encoded data removed]",
      "text/plain": [
       "<Figure size 432x288 with 1 Axes>"
      ]
     },
     "metadata": {
      "needs_background": "light"
     },
     "output_type": "display_data"
    }
   ],
   "source": [
    "for i in range(1000):\n",
    "    batch_ix = to_matrix(sample(text, 32), max_len=MAX_LENGTH)\n",
    "    batch_ix = torch.tensor(batch_ix, dtype=torch.int64)\n",
    "    h_0 = model.initial_state(batch_size = 32)\n",
    "    \n",
    "    _, logp_seq = model(batch_ix, h_0)\n",
    "    \n",
    "    predictions_logp = logp_seq[:, :-1]\n",
    "    actual_next_tokens = batch_ix[:, 1:]\n",
    "\n",
    "    loss = criterion(predictions_logp.contiguous().view(-1, num_tokens), \n",
    "                  actual_next_tokens.contiguous().view(-1))\n",
    "    loss.backward()\n",
    "    opt.step()\n",
    "    opt.zero_grad()\n",
    "    \n",
    "    \n",
    "    history.append(loss.data.numpy())\n",
    "    if (i+1)%100==0:\n",
    "        clear_output(True)\n",
    "        plt.plot(history,label='loss')\n",
    "        plt.legend()\n",
    "        plt.show()\n",
    "\n",
    "assert np.mean(history[:10]) > np.mean(history[-10:]), \"RNN didn't converge.\""
   ]
  },
  {
   "cell_type": "markdown",
   "metadata": {},
   "source": [
    "Plot the loss function (axis X: number of epochs, axis Y: loss function)."
   ]
  },
  {
   "cell_type": "code",
   "execution_count": 742,
   "metadata": {},
   "outputs": [],
   "source": [
    "def generate_sample(model, seed_phrase=['i'], max_length=MAX_LENGTH, temperature=1.0):\n",
    "    '''\n",
    "    ### Disclaimer: this is an example function for text generation.\n",
    "    ### You can either adapt it in your code or create your own function\n",
    "    \n",
    "    The function generates text given a phrase of length at least SEQ_LENGTH.\n",
    "    :param seed_phrase: prefix characters. The RNN is asked to continue the phrase\n",
    "    :param max_length: maximum output length, including seed_phrase\n",
    "    :param temperature: coefficient for sampling.  higher temperature produces more chaotic outputs, \n",
    "        smaller temperature converges to the single most likely output.\n",
    "        \n",
    "    Be careful with the model output. This model waits logits (not probabilities/log-probabilities)\n",
    "    of the next symbol.\n",
    "    '''\n",
    "    \n",
    "    x_sequence = [token_to_idx[token] for token in seed_phrase]\n",
    "    x_sequence = torch.tensor([[x_sequence]], dtype=torch.int64)\n",
    "    hid_state = model.initial_state(batch_size=1)\n",
    "    \n",
    "    \n",
    "    #feed the seed phrase, if any\n",
    "    for i in range(len(seed_phrase) - 1):\n",
    "        hid_state, out = model(x_sequence[:, :,i], hid_state)\n",
    "    \n",
    "    #start generating\n",
    "    for i in range(max_length - len(seed_phrase)):\n",
    "        if x_sequence[:, :,-1] == torch.tensor([[[18237]]]):\n",
    "            hid_state, out = model(x_sequence[:, :,-2], hid_state)\n",
    "        else:\n",
    "            hid_state, out = model(x_sequence[:, :,-1], hid_state)\n",
    "        \n",
    "        # Be really careful here with the model output\n",
    "        p_next = F.softmax(out / temperature, dim=-1).data.numpy()[0][0]\n",
    "        # sample next token and push it back into x_sequence\n",
    "        next_ix = np.random.choice(num_tokens, p=p_next)\n",
    "        next_ix = torch.tensor([[[next_ix]]], dtype=torch.int64)\n",
    "        if next_ix == torch.tensor([[[18237]]]):\n",
    "            next_ix = torch.tensor([[[18236]]])\n",
    "            hid_state = model.initial_state(batch_size=1)\n",
    "        x_sequence = torch.cat([x_sequence, next_ix], dim=2)\n",
    "        \n",
    "    x_sequence = torch.flatten(x_sequence)\n",
    "    \n",
    "    return ' '.join([idx_to_token[ix] for ix in x_sequence.data.numpy()])"
   ]
  },
  {
   "cell_type": "code",
   "execution_count": 743,
   "metadata": {},
   "outputs": [
    {
     "name": "stdout",
     "output_type": "stream",
     "text": [
      "i will the some to i thoughts of time \n",
      " express my me it in for still but \n",
      " to my the his a of a doth besmear \n",
      " \n",
      " treads not nothing of his of \n",
      " reviewest own that not this which thy progress \n",
      " that painted all thy which d in make \n",
      " settled men i heart do time \n",
      " gives i the love was in st \n",
      " forth live that heart leave and her dust \n",
      " rud mine was in my his \n",
      " fired art the thee doth by \n",
      " blame of greet pace i is sweet \n",
      " if in my thou the map your in catch \n",
      " forfeit on is s his now d \n",
      " what the nature s thy day s year \n",
      " \n",
      " it prove black mine in thy doth \n",
      " phoenix the world for my st do living \n",
      " \n",
      " i i for of for self lords \n",
      " with is or that the thee thou \n",
      " of i my sun that love be \n",
      " loving earth s sum state sight \n",
      " why by the there the sight \n",
      " showers thou in the will of desired \n",
      " you unkindness love love sweetest me thee\n"
     ]
    }
   ],
   "source": [
    "for _ in range(1):\n",
    "    print(generate_sample(model, max_length=200, seed_phrase=['i', 'will'], temperature=0.7))"
   ]
  },
  {
   "cell_type": "markdown",
   "metadata": {},
   "source": [
    "### More poetic model\n",
    "\n",
    "Let's use LSTM instead of vanilla RNN and compare the results."
   ]
  },
  {
   "cell_type": "markdown",
   "metadata": {},
   "source": [
    "Plot the loss function of the number of epochs. Does the final loss become better?"
   ]
  },
  {
   "cell_type": "code",
   "execution_count": 744,
   "metadata": {},
   "outputs": [],
   "source": [
    "num_tokens = max(idx_to_token.keys()) + 1\n",
    "\n",
    "class CharLSTMLoop(nn.Module):\n",
    "    def __init__(self, num_tokens=num_tokens, emb_size=MAX_LENGTH, rnn_num_units=64):\n",
    "        super(self.__class__, self).__init__()\n",
    "        self.num_units = rnn_num_units\n",
    "        self.emb = nn.Embedding(num_tokens, emb_size)\n",
    "        self.lstm = nn.LSTM(emb_size, rnn_num_units, batch_first=True)\n",
    "        self.hid_to_logits = nn.Linear(rnn_num_units, num_tokens)\n",
    "        \n",
    "    def forward(self, x, h_0, c_0):\n",
    "        assert isinstance(x.data, torch.LongTensor)\n",
    "        h_seq, h = self.lstm(self.emb(x), (h_0,c_0))\n",
    "        next_logits = self.hid_to_logits(h_seq)\n",
    "        next_logp = F.log_softmax(next_logits, dim=-1)\n",
    "        return h[0], h[1], next_logp\n",
    "    \n",
    "    def initial_state(self, batch_size):\n",
    "        \"\"\" return rnn state before it processes first input (aka h0) \"\"\"\n",
    "        return torch.zeros(1, batch_size, self.num_units, requires_grad=True)"
   ]
  },
  {
   "cell_type": "code",
   "execution_count": 745,
   "metadata": {},
   "outputs": [],
   "source": [
    "model2 = CharLSTMLoop()\n",
    "opt = torch.optim.Adam(model2.parameters())\n",
    "criterion = nn.NLLLoss()\n",
    "\n",
    "history = []"
   ]
  },
  {
   "cell_type": "code",
   "execution_count": 746,
   "metadata": {},
   "outputs": [
    {
     "data": {
      "image/png": "[encoded data removed]",
      "text/plain": [
       "<Figure size 432x288 with 1 Axes>"
      ]
     },
     "metadata": {
      "needs_background": "light"
     },
     "output_type": "display_data"
    }
   ],
   "source": [
    "for i in range(1000):\n",
    "    batch_ix = to_matrix(sample(text, 32), max_len=MAX_LENGTH)\n",
    "    batch_ix = torch.tensor(batch_ix, dtype=torch.int64)\n",
    "    h_0 = model2.initial_state(batch_size = 32)\n",
    "    hn, cn, logp_seq = model2(batch_ix, h_0, h_0)\n",
    "    \n",
    "    predictions_logp = logp_seq[:, :-1]    \n",
    "    actual_next_tokens = batch_ix[:, 1:]\n",
    "\n",
    "    loss = criterion(predictions_logp.contiguous().view(-1, num_tokens), \n",
    "                  actual_next_tokens.contiguous().view(-1))\n",
    "    loss.backward()\n",
    "    opt.step()\n",
    "    opt.zero_grad()\n",
    "    \n",
    "    \n",
    "    history.append(loss.data.numpy())\n",
    "    if (i+1)%100==0:\n",
    "        clear_output(True)\n",
    "        plt.plot(history,label='loss')\n",
    "        plt.legend()\n",
    "        plt.show()\n",
    "        \n",
    "\n",
    "assert np.mean(history[:10]) > np.mean(history[-10:]), \"RNN didn't converge.\""
   ]
  },
  {
   "cell_type": "code",
   "execution_count": 748,
   "metadata": {},
   "outputs": [],
   "source": [
    "def generate_sample_lstm(model, seed_phrase=['i'], max_length=MAX_LENGTH, temperature=1.0):\n",
    "    '''\n",
    "    ### Disclaimer: this is an example function for text generation.\n",
    "    ### You can either adapt it in your code or create your own function\n",
    "    \n",
    "    The function generates text given a phrase of length at least SEQ_LENGTH.\n",
    "    :param seed_phrase: prefix characters. The RNN is asked to continue the phrase\n",
    "    :param max_length: maximum output length, including seed_phrase\n",
    "    :param temperature: coefficient for sampling.  higher temperature produces more chaotic outputs, \n",
    "        smaller temperature converges to the single most likely output.\n",
    "        \n",
    "    Be careful with the model output. This model waits logits (not probabilities/log-probabilities)\n",
    "    of the next symbol.\n",
    "    '''\n",
    "    \n",
    "    x_sequence = [token_to_idx[token] for token in seed_phrase]\n",
    "    x_sequence = torch.tensor([[x_sequence]], dtype=torch.int64)\n",
    "    hid_state = model.initial_state(batch_size=1)\n",
    "    cn = model.initial_state(batch_size=1)\n",
    "    \n",
    "    \n",
    "    #feed the seed phrase, if any\n",
    "    for i in range(len(seed_phrase) - 1):\n",
    "        hid_state, cn, out = model(x_sequence[:, :,i], hid_state, cn)\n",
    "    \n",
    "    \n",
    "    #start generating\n",
    "    for _ in range(max_length - len(seed_phrase)):\n",
    "        if x_sequence[:, :,-1] == torch.tensor([[[18237]]]):\n",
    "            hid_state, cn, out = model(x_sequence[:, :,-2], hid_state, cn)\n",
    "        else:\n",
    "            hid_state, cn, out = model(x_sequence[:, :,-1], hid_state, cn)\n",
    "        \n",
    "        # Be really careful here with the model output\n",
    "        p_next = F.softmax(out / temperature, dim=-1).data.numpy()[0][0]\n",
    "        \n",
    "        # sample next token and push it back into x_sequence\n",
    "        next_ix = np.random.choice(num_tokens, p=p_next)\n",
    "        next_ix = torch.tensor([[[next_ix]]], dtype=torch.int64)\n",
    "        if next_ix == torch.tensor([[[18237]]]):\n",
    "            next_ix = torch.tensor([[[18236]]])\n",
    "            hid_state = model.initial_state(batch_size=1)  \n",
    "            cn = model.initial_state(batch_size=1)\n",
    "        x_sequence = torch.cat([x_sequence, next_ix], dim=2)\n",
    "        \n",
    "        \n",
    "    x_sequence = torch.flatten(x_sequence)\n",
    "    \n",
    "        \n",
    "    return ' '.join([idx_to_token[ix] for ix in x_sequence.data.numpy()])"
   ]
  },
  {
   "cell_type": "markdown",
   "metadata": {},
   "source": [
    "Generate text using the trained net with different `temperature` parameter: `[0.1, 0.2, 0.5, 1.0, 2.0]`.\n",
    "\n",
    "Evaluate the results visually, try to interpret them."
   ]
  },
  {
   "cell_type": "code",
   "execution_count": 752,
   "metadata": {},
   "outputs": [
    {
     "name": "stdout",
     "output_type": "stream",
     "text": [
      "i will wretch minion but is careful thy d \n",
      " sport which self of eye their \n",
      " tie and to a and love fair \n",
      " ten to she with your nature \n",
      " fool have contend my night with \n",
      " not being death my his goddess poor \n",
      " must of the\n"
     ]
    }
   ],
   "source": [
    "for _ in range(1):\n",
    "    print(generate_sample_lstm(model2, seed_phrase=['i','will'], max_length = 50, temperature = 0.8))"
   ]
  },
  {
   "cell_type": "markdown",
   "metadata": {},
   "source": [
    "### Saving and loading models"
   ]
  },
  {
   "cell_type": "markdown",
   "metadata": {},
   "source": [
    "Save the model to the disk, then load it and generate text. Examples are available [here](https://pytorch.org/tutorials/beginner/saving_loading_models.html])."
   ]
  },
  {
   "cell_type": "code",
   "execution_count": 246,
   "metadata": {},
   "outputs": [],
   "source": [
    "import pickle"
   ]
  },
  {
   "cell_type": "code",
   "execution_count": 247,
   "metadata": {},
   "outputs": [],
   "source": [
    "with open('model_RNN.pkl', 'wb') as handle:\n",
    "    pickle.dump(model, handle, protocol = pickle.HIGHEST_PROTOCOL)"
   ]
  },
  {
   "cell_type": "code",
   "execution_count": 248,
   "metadata": {},
   "outputs": [],
   "source": [
    "with open('model_LSTM.pkl', 'wb') as handle:\n",
    "    pickle.dump(model2, handle, protocol = pickle.HIGHEST_PROTOCOL)"
   ]
  },
  {
   "cell_type": "markdown",
   "metadata": {},
   "source": [
    "### References\n",
    "1. <a href='http://karpathy.github.io/2015/05/21/rnn-effectiveness/'> Andrew Karpathy blog post about RNN. </a> \n",
    "There are several examples of genration: Shakespeare texts, Latex formulas, Linux Sourse Code and children names.\n",
    "2. <a href='https://github.com/karpathy/char-rnn'> Repo with char-rnn code </a>\n",
    "3. Cool repo with PyTorch examples: [link](https://github.com/spro/practical-pytorch`)"
   ]
  }
 ],
 "metadata": {
  "anaconda-cloud": {},
  "kernelspec": {
   "display_name": "Python 3",
   "language": "python",
   "name": "python3"
  },
  "language_info": {
   "codemirror_mode": {
    "name": "ipython",
    "version": 3
   },
   "file_extension": ".py",
   "mimetype": "text/x-python",
   "name": "python",
   "nbconvert_exporter": "python",
   "pygments_lexer": "ipython3",
   "version": "3.8.3"
  }
 },
 "nbformat": 4,
 "nbformat_minor": 4
}
