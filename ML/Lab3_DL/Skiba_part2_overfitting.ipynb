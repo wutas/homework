{
 "cells": [
  {
   "cell_type": "markdown",
   "metadata": {
    "id": "NFmOh482SyEF"
   },
   "source": [
    "## Lab 3\n",
    "### Part 2: Dealing with overfitting"
   ]
  },
  {
   "cell_type": "markdown",
   "metadata": {
    "id": "AjzAuO3oSvsI"
   },
   "source": [
    "Today we work with [Fashion-MNIST dataset](https://github.com/zalandoresearch/fashion-mnist) (*hint: it is available in `torchvision`*).\n",
    "\n",
    "Your goal for today:\n",
    "1. Train a FC (fully-connected) network that achieves >= 0.885 test accuracy.\n",
    "2. Cause considerable overfitting by modifying the network (e.g. increasing the number of network parameters and/or layers) and demonstrate in in the appropriate way (e.g. plot loss and accurasy on train and validation set w.r.t. network complexity).\n",
    "3. Try to deal with overfitting (at least partially) by using regularization techniques (Dropout/Batchnorm/...) and demonstrate the results.\n",
    "\n",
    "__Please, write a small report describing your ideas, tries and achieved results in the end of this file.__\n",
    "\n",
    "*Note*: Tasks 2 and 3 are interrelated, in task 3 your goal is to make the network from task 2 less prone to overfitting. Task 1 is independent from 2 and 3.\n",
    "\n",
    "*Note 2*: We recomment to use Google Colab or other machine with GPU acceleration."
   ]
  },
  {
   "cell_type": "code",
   "execution_count": 1,
   "metadata": {
    "id": "_KBld6VOSwhW"
   },
   "outputs": [],
   "source": [
    "import torch\n",
    "import torch.nn as nn\n",
    "import torchvision\n",
    "import torchvision.transforms as transforms\n",
    "import torchsummary\n",
    "from IPython.display import clear_output\n",
    "from matplotlib import pyplot as plt\n",
    "from matplotlib.pyplot import figure\n",
    "import numpy as np\n",
    "import os\n",
    "import time\n",
    "\n",
    "\n",
    "device = 'cuda:0' if torch.cuda.is_available() else 'cpu'"
   ]
  },
  {
   "cell_type": "code",
   "execution_count": 2,
   "metadata": {
    "colab": {
     "base_uri": "https://localhost:8080/"
    },
    "id": "EdLOG0XqS_g5",
    "outputId": "44826611-d4a4-48f8-db36-50c4e56aed25"
   },
   "outputs": [
    {
     "name": "stdout",
     "output_type": "stream",
     "text": [
      "Directory fmnist already exists!\n"
     ]
    }
   ],
   "source": [
    "# Technical function\n",
    "def mkdir(path):\n",
    "    if not os.path.exists(root_path):\n",
    "        os.mkdir(root_path)\n",
    "        print('Directory', path, 'is created!')\n",
    "    else:\n",
    "        print('Directory', path, 'already exists!')\n",
    "        \n",
    "root_path = 'fmnist'\n",
    "mkdir(root_path)"
   ]
  },
  {
   "cell_type": "code",
   "execution_count": 3,
   "metadata": {
    "colab": {
     "base_uri": "https://localhost:8080/",
     "height": 372,
     "referenced_widgets": [
      "2e633ec0a1294f99b33734790ed7407c",
      "49ad10a2e47f49d7b4a64fa1c79092ac",
      "ecee7c246c0e4ee19a56a7e47f9b95c3",
      "9303030bb6ea4db79827c27fb8ef6e88",
      "0e0f4c3058d648d7b30c2c8e43e0079f",
      "3ef41655b9e04893863d45a4c039dc48",
      "0778ef7f9c00458a86dd98b5ae05879a",
      "9dc517f0f02b465c9c3426ec2d7ff54a",
      "2854e6239bcc48feb24da4e65a671554",
      "9d711011189a4c68b8d66aeedd5df830",
      "b855337e5a2745ae9bfd66859892667f",
      "afe3093eadca44739ef81052e6e440cc",
      "cccbfeb7a3f342c49c2ca2a1138f5ad5",
      "24f290c2b49147379bcec131f985b0c3",
      "b9c4549eb765441f9a00fe47257cc1a4",
      "421f202288404dd992899b49425c06f1",
      "fe7d578a39b54ae9b58bb7dd20df86f3",
      "79b604c9f4904ce29d11dc2c24b40b8c",
      "4e23cb0e21f044eb8e6cd21828fe0435",
      "e02da544b87f49b8b141cc3431e54c20",
      "070c25fbbffc4167b2aa34d8abbcfdaa",
      "eb881d83569c462083db7c156d86ad62",
      "35bd63f7162546989bc4a28a4dbe182e",
      "1bcb0fb0856e4a56b887fa52670ab7d0",
      "8909dc7b2b934b5b97b6b2f2eb9690b4",
      "d5da60c37acf4a5ebba208ce72be2099",
      "e6d30e3fbe3e45d29be341c586e2538a",
      "0141b30418444006823e5581d304dca5",
      "2b0c86b55c7543288ef43a8f79b2c512",
      "2c364949d7df4bf9a312d636f72f17a3",
      "fa5ed42311404e59b633e517b90e2ee4",
      "7d47bd3f1ea3473fb375b7ad7f6a6031"
     ]
    },
    "id": "qt6LE7XaTDT9",
    "outputId": "6c272a15-d619-4864-a3b0-c622b33e2cb5"
   },
   "outputs": [],
   "source": [
    "download = True\n",
    "train_transform = transforms.ToTensor()\n",
    "test_transform = transforms.ToTensor()\n",
    "transforms.Compose((transforms.ToTensor()))\n",
    "\n",
    "\n",
    "fmnist_dataset_train = torchvision.datasets.FashionMNIST(root_path, \n",
    "                                                        train=True, \n",
    "                                                        transform=train_transform,\n",
    "                                                        target_transform=None,\n",
    "                                                        download=download)\n",
    "fmnist_dataset_test = torchvision.datasets.FashionMNIST(root_path, \n",
    "                                                       train=False, \n",
    "                                                       transform=test_transform,\n",
    "                                                       target_transform=None,\n",
    "                                                       download=download)"
   ]
  },
  {
   "cell_type": "code",
   "execution_count": 4,
   "metadata": {
    "colab": {
     "base_uri": "https://localhost:8080/"
    },
    "id": "F5lxHLksuw7H",
    "outputId": "0dbf3c9a-9f2f-4feb-a0aa-e772cfed3f9f"
   },
   "outputs": [
    {
     "data": {
      "text/plain": [
       "Dataset FashionMNIST\n",
       "    Number of datapoints: 60000\n",
       "    Split: train\n",
       "    Root Location: fmnist\n",
       "    Transforms (if any): ToTensor()\n",
       "    Target Transforms (if any): None"
      ]
     },
     "execution_count": 4,
     "metadata": {},
     "output_type": "execute_result"
    }
   ],
   "source": [
    "fmnist_dataset_train"
   ]
  },
  {
   "cell_type": "code",
   "execution_count": 5,
   "metadata": {
    "id": "71YP0SPwTIxD"
   },
   "outputs": [],
   "source": [
    "train_loader = torch.utils.data.DataLoader(fmnist_dataset_train, \n",
    "                                           batch_size=128,\n",
    "                                           shuffle=True,\n",
    "                                           num_workers=2)\n",
    "test_loader = torch.utils.data.DataLoader(fmnist_dataset_test,\n",
    "                                          batch_size=256,\n",
    "                                          shuffle=False,\n",
    "                                          num_workers=2)"
   ]
  },
  {
   "cell_type": "code",
   "execution_count": 6,
   "metadata": {
    "colab": {
     "base_uri": "https://localhost:8080/"
    },
    "id": "v_YFmF7NTWrQ",
    "outputId": "b8b012eb-e9d2-49bb-a678-c3fcd226752a"
   },
   "outputs": [
    {
     "data": {
      "text/plain": [
       "10000"
      ]
     },
     "execution_count": 6,
     "metadata": {},
     "output_type": "execute_result"
    }
   ],
   "source": [
    "len(fmnist_dataset_test)"
   ]
  },
  {
   "cell_type": "code",
   "execution_count": 7,
   "metadata": {},
   "outputs": [
    {
     "data": {
      "text/plain": [
       "60000"
      ]
     },
     "execution_count": 7,
     "metadata": {},
     "output_type": "execute_result"
    }
   ],
   "source": [
    "len(fmnist_dataset_train)"
   ]
  },
  {
   "cell_type": "code",
   "execution_count": 8,
   "metadata": {
    "colab": {
     "base_uri": "https://localhost:8080/"
    },
    "id": "aHca15bOTY4B",
    "outputId": "278d41b1-c618-4800-c1cf-0eceb7bb9b3b"
   },
   "outputs": [
    {
     "name": "stdout",
     "output_type": "stream",
     "text": [
      "torch.Size([128, 1, 28, 28])\n",
      "torch.Size([128])\n",
      "128\n"
     ]
    }
   ],
   "source": [
    "for img, label in train_loader:\n",
    "    print(img.shape)\n",
    "#     print(img)\n",
    "    print(label.shape)\n",
    "    print(label.size(0))\n",
    "    break"
   ]
  },
  {
   "cell_type": "markdown",
   "metadata": {
    "id": "b6OOOffHTfX5"
   },
   "source": [
    "### Task 1\n",
    "Train a network that achieves $\\geq 0.885$ test accuracy. It's fine to use only Linear (`nn.Linear`) layers and activations/dropout/batchnorm. Convolutional layers might be a great use, but we will meet them a bit later."
   ]
  },
  {
   "cell_type": "code",
   "execution_count": 62,
   "metadata": {
    "id": "ftpkTjxlTcFx"
   },
   "outputs": [],
   "source": [
    "class TinyNeuralNetwork(nn.Module):\n",
    "    def __init__(self, input_shape=28*28, num_classes=10, input_channels=1):\n",
    "        super(self.__class__, self).__init__()\n",
    "        self.model = nn.Sequential(\n",
    "            nn.Flatten(), # This layer converts image into a vector to use Linear layers afterwards\n",
    "            # Your network structure comes here\n",
    "            nn.Linear(input_shape, 200),\n",
    "            nn.ReLU(),\n",
    "            nn.Dropout(p=0.2),\n",
    "            nn.BatchNorm1d(200),\n",
    "            nn.Linear(200, num_classes)\n",
    "        )\n",
    "        \n",
    "    def forward(self, inp):       \n",
    "        out = self.model(inp)\n",
    "        return out"
   ]
  },
  {
   "cell_type": "code",
   "execution_count": 63,
   "metadata": {
    "id": "trCL-K7wuw7H"
   },
   "outputs": [
    {
     "name": "stdout",
     "output_type": "stream",
     "text": [
      "----------------------------------------------------------------\n",
      "        Layer (type)               Output Shape         Param #\n",
      "================================================================\n",
      "           Flatten-1                  [-1, 784]               0\n",
      "            Linear-2                  [-1, 200]         157,000\n",
      "              ReLU-3                  [-1, 200]               0\n",
      "           Dropout-4                  [-1, 200]               0\n",
      "       BatchNorm1d-5                  [-1, 200]             400\n",
      "            Linear-6                   [-1, 10]           2,010\n",
      "================================================================\n",
      "Total params: 159,410\n",
      "Trainable params: 159,410\n",
      "Non-trainable params: 0\n",
      "----------------------------------------------------------------\n",
      "Input size (MB): 0.00\n",
      "Forward/backward pass size (MB): 0.01\n",
      "Params size (MB): 0.61\n",
      "Estimated Total Size (MB): 0.62\n",
      "----------------------------------------------------------------\n"
     ]
    }
   ],
   "source": [
    "torchsummary.summary(TinyNeuralNetwork().to(device), (28*28,))"
   ]
  },
  {
   "cell_type": "markdown",
   "metadata": {
    "id": "544PGKEnjPr5"
   },
   "source": [
    "Your experiments come here:"
   ]
  },
  {
   "cell_type": "code",
   "execution_count": 64,
   "metadata": {
    "id": "i3POFj90Ti-6"
   },
   "outputs": [],
   "source": [
    "model = TinyNeuralNetwork().to(device)\n",
    "opt = torch.optim.Adam(model.parameters(), lr=1e-3)\n",
    "loss_func = nn.CrossEntropyLoss()"
   ]
  },
  {
   "cell_type": "code",
   "execution_count": 9,
   "metadata": {
    "id": "mybD4AsDuw7I"
   },
   "outputs": [],
   "source": [
    "def train_model(model, train_loader, val_loader, loss_fn, opt, n_epochs: int):\n",
    "    '''\n",
    "    model: нейросеть для обучения,\n",
    "    train_loader, val_loader: загрузчики данных\n",
    "    loss_fn: целевая метрика (которую будем оптимизировать)\n",
    "    opt: оптимизатор (обновляет веса нейросети)\n",
    "    n_epochs: кол-во эпох, полных проходов датасета\n",
    "    '''\n",
    "    train_loss = []\n",
    "    val_loss = []\n",
    "    val_accuracy = []\n",
    "    \n",
    "    for epoch in range(n_epochs):\n",
    "        ep_train_loss = []\n",
    "        ep_val_loss = []\n",
    "        ep_val_accuracy = []\n",
    "        start_time = time.time()\n",
    "\n",
    "        model.train(True) # enable dropout / batch_norm training behavior\n",
    "        for X_batch, y_batch in train_loader:\n",
    "            # move data to target device\n",
    "            opt.zero_grad()\n",
    "            X_batch = X_batch.to(device)\n",
    "            y_batch = y_batch.to(device)\n",
    "            \n",
    "            # train on batch: compute loss, calc grads, perform optimizer step and zero the grads\n",
    "            \n",
    "            prediction = model(X_batch)\n",
    "            loss = loss_fn(prediction, y_batch)\n",
    "            loss.backward()\n",
    "            opt.step()\n",
    "            \n",
    "\n",
    "            ep_train_loss.append(loss.item())\n",
    "\n",
    "        model.train(False) # disable dropout / use averages for batch_norm\n",
    "        with torch.no_grad():\n",
    "            for X_batch, y_batch in val_loader:\n",
    "                # move data to target device\n",
    "                X_batch = X_batch.to(device)\n",
    "                y_batch = y_batch.to(device)\n",
    "                \n",
    "                # compute predictions\n",
    "                prediction = model(X_batch)\n",
    "                loss = loss_fn(prediction, y_batch)\n",
    "                \n",
    "                ep_val_loss.append(loss.item())\n",
    "                y_pred = prediction.max(1)[1].data\n",
    "                ep_val_accuracy.append(np.mean((y_batch.cpu() == y_pred.cpu()).numpy()))\n",
    "\n",
    "        # print the results for this epoch:\n",
    "        print(f'Epoch {epoch + 1} of {n_epochs} took {time.time() - start_time:.3f}s')\n",
    "\n",
    "        train_loss.append(np.mean(ep_train_loss))\n",
    "        val_loss.append(np.mean(ep_val_loss))\n",
    "        val_accuracy.append(np.mean(ep_val_accuracy))\n",
    "        \n",
    "        print(f\"\\t  training loss: {train_loss[-1]:.6f}\")\n",
    "        print(f\"\\tvalidation loss: {val_loss[-1]:.6f}\")\n",
    "        print(f\"\\tvalidation accuracy: {val_accuracy[-1]:.3f}\")\n",
    "\n",
    "    return train_loss, val_loss, val_accuracy"
   ]
  },
  {
   "cell_type": "code",
   "execution_count": 66,
   "metadata": {
    "colab": {
     "base_uri": "https://localhost:8080/"
    },
    "id": "CFfUP8myuw7I",
    "outputId": "e2ea9297-12e5-4adf-b1bf-d294edd7a76e"
   },
   "outputs": [
    {
     "name": "stdout",
     "output_type": "stream",
     "text": [
      "Epoch 1 of 30 took 3.811s\n",
      "\t  training loss: 0.499164\n",
      "\tvalidation loss: 0.440168\n",
      "\tvalidation accuracy: 0.847\n",
      "Epoch 2 of 30 took 3.762s\n",
      "\t  training loss: 0.405410\n",
      "\tvalidation loss: 0.408495\n",
      "\tvalidation accuracy: 0.856\n",
      "Epoch 3 of 30 took 3.812s\n",
      "\t  training loss: 0.377011\n",
      "\tvalidation loss: 0.399172\n",
      "\tvalidation accuracy: 0.859\n",
      "Epoch 4 of 30 took 3.886s\n",
      "\t  training loss: 0.364486\n",
      "\tvalidation loss: 0.367968\n",
      "\tvalidation accuracy: 0.875\n",
      "Epoch 5 of 30 took 3.752s\n",
      "\t  training loss: 0.351579\n",
      "\tvalidation loss: 0.373809\n",
      "\tvalidation accuracy: 0.866\n",
      "Epoch 6 of 30 took 3.792s\n",
      "\t  training loss: 0.342589\n",
      "\tvalidation loss: 0.357093\n",
      "\tvalidation accuracy: 0.873\n",
      "Epoch 7 of 30 took 3.771s\n",
      "\t  training loss: 0.326878\n",
      "\tvalidation loss: 0.349167\n",
      "\tvalidation accuracy: 0.876\n",
      "Epoch 8 of 30 took 3.793s\n",
      "\t  training loss: 0.319858\n",
      "\tvalidation loss: 0.342879\n",
      "\tvalidation accuracy: 0.876\n",
      "Epoch 9 of 30 took 3.814s\n",
      "\t  training loss: 0.310962\n",
      "\tvalidation loss: 0.339669\n",
      "\tvalidation accuracy: 0.879\n",
      "Epoch 10 of 30 took 3.845s\n",
      "\t  training loss: 0.307363\n",
      "\tvalidation loss: 0.355657\n",
      "\tvalidation accuracy: 0.872\n",
      "Epoch 11 of 30 took 3.887s\n",
      "\t  training loss: 0.302818\n",
      "\tvalidation loss: 0.346093\n",
      "\tvalidation accuracy: 0.876\n",
      "Epoch 12 of 30 took 3.831s\n",
      "\t  training loss: 0.297606\n",
      "\tvalidation loss: 0.338014\n",
      "\tvalidation accuracy: 0.879\n",
      "Epoch 13 of 30 took 3.857s\n",
      "\t  training loss: 0.293460\n",
      "\tvalidation loss: 0.331925\n",
      "\tvalidation accuracy: 0.882\n",
      "Epoch 14 of 30 took 3.818s\n",
      "\t  training loss: 0.288220\n",
      "\tvalidation loss: 0.334291\n",
      "\tvalidation accuracy: 0.877\n",
      "Epoch 15 of 30 took 3.917s\n",
      "\t  training loss: 0.286966\n",
      "\tvalidation loss: 0.337158\n",
      "\tvalidation accuracy: 0.878\n",
      "Epoch 16 of 30 took 3.818s\n",
      "\t  training loss: 0.277186\n",
      "\tvalidation loss: 0.338229\n",
      "\tvalidation accuracy: 0.880\n",
      "Epoch 17 of 30 took 3.930s\n",
      "\t  training loss: 0.273686\n",
      "\tvalidation loss: 0.325271\n",
      "\tvalidation accuracy: 0.887\n",
      "Epoch 18 of 30 took 3.844s\n",
      "\t  training loss: 0.274703\n",
      "\tvalidation loss: 0.349952\n",
      "\tvalidation accuracy: 0.878\n",
      "Epoch 19 of 30 took 3.870s\n",
      "\t  training loss: 0.273187\n",
      "\tvalidation loss: 0.332637\n",
      "\tvalidation accuracy: 0.884\n",
      "Epoch 20 of 30 took 3.827s\n",
      "\t  training loss: 0.266055\n",
      "\tvalidation loss: 0.329698\n",
      "\tvalidation accuracy: 0.884\n",
      "Epoch 21 of 30 took 3.836s\n",
      "\t  training loss: 0.265896\n",
      "\tvalidation loss: 0.351251\n",
      "\tvalidation accuracy: 0.882\n",
      "Epoch 22 of 30 took 3.921s\n",
      "\t  training loss: 0.266628\n",
      "\tvalidation loss: 0.355639\n",
      "\tvalidation accuracy: 0.887\n",
      "Epoch 23 of 30 took 3.878s\n",
      "\t  training loss: 0.264755\n",
      "\tvalidation loss: 0.341658\n",
      "\tvalidation accuracy: 0.886\n",
      "Epoch 24 of 30 took 3.875s\n",
      "\t  training loss: 0.261272\n",
      "\tvalidation loss: 0.334292\n",
      "\tvalidation accuracy: 0.885\n",
      "Epoch 25 of 30 took 3.856s\n",
      "\t  training loss: 0.255751\n",
      "\tvalidation loss: 0.334030\n",
      "\tvalidation accuracy: 0.889\n",
      "Epoch 26 of 30 took 3.866s\n",
      "\t  training loss: 0.254419\n",
      "\tvalidation loss: 0.333771\n",
      "\tvalidation accuracy: 0.892\n",
      "Epoch 27 of 30 took 3.863s\n",
      "\t  training loss: 0.256191\n",
      "\tvalidation loss: 0.333665\n",
      "\tvalidation accuracy: 0.890\n",
      "Epoch 28 of 30 took 3.877s\n",
      "\t  training loss: 0.250326\n",
      "\tvalidation loss: 0.334704\n",
      "\tvalidation accuracy: 0.884\n",
      "Epoch 29 of 30 took 4.178s\n",
      "\t  training loss: 0.248903\n",
      "\tvalidation loss: 0.341702\n",
      "\tvalidation accuracy: 0.888\n",
      "Epoch 30 of 30 took 4.001s\n",
      "\t  training loss: 0.244382\n",
      "\tvalidation loss: 0.330802\n",
      "\tvalidation accuracy: 0.885\n"
     ]
    }
   ],
   "source": [
    "n_epochs = 30\n",
    "\n",
    "train_loss, val_loss, val_accuracy = train_model(model, train_loader, test_loader, loss_func, opt, n_epochs)"
   ]
  },
  {
   "cell_type": "code",
   "execution_count": 10,
   "metadata": {
    "ExecuteTime": {
     "end_time": "2020-02-28T09:33:35.242213Z",
     "start_time": "2020-02-28T09:33:35.237045Z"
    },
    "id": "TkoA_WD4uw7I"
   },
   "outputs": [],
   "source": [
    "def plot_train_process(train_loss, val_loss, val_accuracy):\n",
    "    fig, axes = plt.subplots(1, 2, figsize=(15, 5))\n",
    "\n",
    "    axes[0].set_title('Loss')\n",
    "    axes[0].plot(train_loss, label='train')\n",
    "    axes[0].plot(val_loss, label='validation')\n",
    "    axes[0].legend()\n",
    "\n",
    "    axes[1].set_title('Validation accuracy')\n",
    "    axes[1].plot(val_accuracy)"
   ]
  },
  {
   "cell_type": "code",
   "execution_count": 68,
   "metadata": {
    "ExecuteTime": {
     "end_time": "2020-02-28T09:33:36.057391Z",
     "start_time": "2020-02-28T09:33:35.611228Z"
    },
    "colab": {
     "base_uri": "https://localhost:8080/",
     "height": 336
    },
    "id": "tCW2JKQbuw7I",
    "outputId": "169c4bab-c65a-415c-d457-a687552cf876"
   },
   "outputs": [
    {
     "data": {
      "image/png": "[encoded data removed]",
      "text/plain": [
       "<Figure size 1080x360 with 2 Axes>"
      ]
     },
     "metadata": {
      "needs_background": "light"
     },
     "output_type": "display_data"
    }
   ],
   "source": [
    "plot_train_process(train_loss, val_loss, val_accuracy)"
   ]
  },
  {
   "cell_type": "markdown",
   "metadata": {
    "id": "L7ISqkjmCPB1"
   },
   "source": [
    "### Task 2: Overfit it.\n",
    "Build a network that will overfit to this dataset. Demonstrate the overfitting in the appropriate way (e.g. plot loss and accurasy on train and test set w.r.t. network complexity).\n",
    "\n",
    "*Note:* you also might decrease the size of `train` dataset to enforce the overfitting and speed up the computations."
   ]
  },
  {
   "cell_type": "code",
   "execution_count": 28,
   "metadata": {
    "id": "H12uAWiGBwJx"
   },
   "outputs": [],
   "source": [
    "class OverfittingNeuralNetwork(nn.Module):\n",
    "    def __init__(self, input_shape=28*28, num_classes=10, input_channels=1):\n",
    "        super(self.__class__, self).__init__()\n",
    "        self.model = nn.Sequential(\n",
    "            nn.Flatten(), # This layer converts image into a vector to use Linear layers afterwards\n",
    "            # Your network structure comes here\n",
    "            nn.Linear(input_shape, 500),\n",
    "            nn.ReLU(),\n",
    "            nn.Linear(500, 200),\n",
    "            nn.ReLU(),\n",
    "            nn.Linear(200, 50),\n",
    "            nn.ReLU(),\n",
    "            nn.Linear(50, num_classes)\n",
    "            \n",
    "        )\n",
    "        \n",
    "    def forward(self, inp):       \n",
    "        out = self.model(inp)\n",
    "        return out"
   ]
  },
  {
   "cell_type": "code",
   "execution_count": 25,
   "metadata": {
    "colab": {
     "base_uri": "https://localhost:8080/"
    },
    "id": "JgXAKCpvCwqH",
    "outputId": "d87b4773-e320-4255-8e39-da9f45cf703d"
   },
   "outputs": [
    {
     "name": "stdout",
     "output_type": "stream",
     "text": [
      "----------------------------------------------------------------\n",
      "        Layer (type)               Output Shape         Param #\n",
      "================================================================\n",
      "           Flatten-1                  [-1, 784]               0\n",
      "            Linear-2                  [-1, 500]         392,500\n",
      "              ReLU-3                  [-1, 500]               0\n",
      "            Linear-4                  [-1, 200]         100,200\n",
      "              ReLU-5                  [-1, 200]               0\n",
      "            Linear-6                   [-1, 50]          10,050\n",
      "              ReLU-7                   [-1, 50]               0\n",
      "            Linear-8                   [-1, 10]             510\n",
      "================================================================\n",
      "Total params: 503,260\n",
      "Trainable params: 503,260\n",
      "Non-trainable params: 0\n",
      "----------------------------------------------------------------\n",
      "Input size (MB): 0.00\n",
      "Forward/backward pass size (MB): 0.02\n",
      "Params size (MB): 1.92\n",
      "Estimated Total Size (MB): 1.94\n",
      "----------------------------------------------------------------\n"
     ]
    }
   ],
   "source": [
    "torchsummary.summary(OverfittingNeuralNetwork().to(device), (28*28,))"
   ]
  },
  {
   "cell_type": "code",
   "execution_count": 29,
   "metadata": {
    "id": "HATpKzXTxwxO"
   },
   "outputs": [],
   "source": [
    "model = OverfittingNeuralNetwork().to(device)\n",
    "opt = torch.optim.Adam(model.parameters(), lr=1e-3)\n",
    "loss_func = nn.CrossEntropyLoss()"
   ]
  },
  {
   "cell_type": "code",
   "execution_count": 30,
   "metadata": {
    "colab": {
     "base_uri": "https://localhost:8080/"
    },
    "id": "FJKNn8WLuw7I",
    "outputId": "da414732-1a8a-40c1-e25f-cc8ccbaa55da"
   },
   "outputs": [
    {
     "name": "stdout",
     "output_type": "stream",
     "text": [
      "Epoch 1 of 30 took 6.754s\n",
      "\t  training loss: 0.576222\n",
      "\tvalidation loss: 0.433219\n",
      "\tvalidation accuracy: 0.842\n",
      "Epoch 2 of 30 took 6.811s\n",
      "\t  training loss: 0.381293\n",
      "\tvalidation loss: 0.380602\n",
      "\tvalidation accuracy: 0.862\n",
      "Epoch 3 of 30 took 6.399s\n",
      "\t  training loss: 0.339398\n",
      "\tvalidation loss: 0.383150\n",
      "\tvalidation accuracy: 0.862\n",
      "Epoch 4 of 30 took 6.688s\n",
      "\t  training loss: 0.315376\n",
      "\tvalidation loss: 0.338400\n",
      "\tvalidation accuracy: 0.877\n",
      "Epoch 5 of 30 took 6.694s\n",
      "\t  training loss: 0.291403\n",
      "\tvalidation loss: 0.357450\n",
      "\tvalidation accuracy: 0.868\n",
      "Epoch 6 of 30 took 6.408s\n",
      "\t  training loss: 0.278651\n",
      "\tvalidation loss: 0.344850\n",
      "\tvalidation accuracy: 0.879\n",
      "Epoch 7 of 30 took 6.532s\n",
      "\t  training loss: 0.263577\n",
      "\tvalidation loss: 0.338106\n",
      "\tvalidation accuracy: 0.877\n",
      "Epoch 8 of 30 took 6.543s\n",
      "\t  training loss: 0.254176\n",
      "\tvalidation loss: 0.329475\n",
      "\tvalidation accuracy: 0.881\n",
      "Epoch 9 of 30 took 6.253s\n",
      "\t  training loss: 0.241556\n",
      "\tvalidation loss: 0.334042\n",
      "\tvalidation accuracy: 0.880\n",
      "Epoch 10 of 30 took 6.460s\n",
      "\t  training loss: 0.236085\n",
      "\tvalidation loss: 0.341377\n",
      "\tvalidation accuracy: 0.876\n",
      "Epoch 11 of 30 took 6.538s\n",
      "\t  training loss: 0.222788\n",
      "\tvalidation loss: 0.328299\n",
      "\tvalidation accuracy: 0.888\n",
      "Epoch 12 of 30 took 6.512s\n",
      "\t  training loss: 0.215079\n",
      "\tvalidation loss: 0.318407\n",
      "\tvalidation accuracy: 0.893\n",
      "Epoch 13 of 30 took 6.817s\n",
      "\t  training loss: 0.205129\n",
      "\tvalidation loss: 0.322313\n",
      "\tvalidation accuracy: 0.890\n",
      "Epoch 14 of 30 took 6.342s\n",
      "\t  training loss: 0.199704\n",
      "\tvalidation loss: 0.313812\n",
      "\tvalidation accuracy: 0.894\n",
      "Epoch 15 of 30 took 6.598s\n",
      "\t  training loss: 0.188957\n",
      "\tvalidation loss: 0.329293\n",
      "\tvalidation accuracy: 0.891\n",
      "Epoch 16 of 30 took 6.884s\n",
      "\t  training loss: 0.184398\n",
      "\tvalidation loss: 0.328372\n",
      "\tvalidation accuracy: 0.896\n",
      "Epoch 17 of 30 took 6.751s\n",
      "\t  training loss: 0.176191\n",
      "\tvalidation loss: 0.349742\n",
      "\tvalidation accuracy: 0.891\n",
      "Epoch 18 of 30 took 6.418s\n",
      "\t  training loss: 0.170062\n",
      "\tvalidation loss: 0.355447\n",
      "\tvalidation accuracy: 0.894\n",
      "Epoch 19 of 30 took 6.424s\n",
      "\t  training loss: 0.166270\n",
      "\tvalidation loss: 0.346936\n",
      "\tvalidation accuracy: 0.896\n",
      "Epoch 20 of 30 took 6.456s\n",
      "\t  training loss: 0.158600\n",
      "\tvalidation loss: 0.361568\n",
      "\tvalidation accuracy: 0.885\n",
      "Epoch 21 of 30 took 6.867s\n",
      "\t  training loss: 0.151938\n",
      "\tvalidation loss: 0.360464\n",
      "\tvalidation accuracy: 0.894\n",
      "Epoch 22 of 30 took 6.330s\n",
      "\t  training loss: 0.148587\n",
      "\tvalidation loss: 0.351854\n",
      "\tvalidation accuracy: 0.898\n",
      "Epoch 23 of 30 took 6.222s\n",
      "\t  training loss: 0.143742\n",
      "\tvalidation loss: 0.379256\n",
      "\tvalidation accuracy: 0.890\n",
      "Epoch 24 of 30 took 6.274s\n",
      "\t  training loss: 0.135070\n",
      "\tvalidation loss: 0.400166\n",
      "\tvalidation accuracy: 0.894\n",
      "Epoch 25 of 30 took 6.675s\n",
      "\t  training loss: 0.137413\n",
      "\tvalidation loss: 0.368236\n",
      "\tvalidation accuracy: 0.899\n",
      "Epoch 26 of 30 took 6.645s\n",
      "\t  training loss: 0.128388\n",
      "\tvalidation loss: 0.435433\n",
      "\tvalidation accuracy: 0.886\n",
      "Epoch 27 of 30 took 6.414s\n",
      "\t  training loss: 0.124739\n",
      "\tvalidation loss: 0.400770\n",
      "\tvalidation accuracy: 0.896\n",
      "Epoch 28 of 30 took 6.594s\n",
      "\t  training loss: 0.122949\n",
      "\tvalidation loss: 0.392598\n",
      "\tvalidation accuracy: 0.897\n",
      "Epoch 29 of 30 took 6.569s\n",
      "\t  training loss: 0.116706\n",
      "\tvalidation loss: 0.440503\n",
      "\tvalidation accuracy: 0.892\n",
      "Epoch 30 of 30 took 6.635s\n",
      "\t  training loss: 0.113904\n",
      "\tvalidation loss: 0.421610\n",
      "\tvalidation accuracy: 0.898\n"
     ]
    }
   ],
   "source": [
    "n_epochs = 30\n",
    "\n",
    "train_loss, val_loss, val_accuracy = train_model(model, train_loader, test_loader, loss_func, opt, n_epochs)"
   ]
  },
  {
   "cell_type": "code",
   "execution_count": 31,
   "metadata": {
    "colab": {
     "base_uri": "https://localhost:8080/",
     "height": 336
    },
    "id": "nM72Vy5Fx9Ge",
    "outputId": "785b8d92-b4b9-4612-fbf8-48d507b7b5de"
   },
   "outputs": [
    {
     "data": {
      "image/png": "[encoded data removed]",
      "text/plain": [
       "<Figure size 1080x360 with 2 Axes>"
      ]
     },
     "metadata": {
      "needs_background": "light",
      "tags": []
     },
     "output_type": "display_data"
    }
   ],
   "source": [
    "plot_train_process(train_loss, val_loss, val_accuracy)"
   ]
  },
  {
   "cell_type": "markdown",
   "metadata": {
    "id": "ybTaoTSEuw7I"
   },
   "source": [
    "### Task 3: Fix it.\n",
    "Fix the overfitted network from the previous step (at least partially) by using regularization techniques (Dropout/Batchnorm/...) and demonstrate the results. "
   ]
  },
  {
   "cell_type": "code",
   "execution_count": 11,
   "metadata": {
    "id": "F6k-Erypuw7I"
   },
   "outputs": [],
   "source": [
    "class FixedNeuralNetwork(nn.Module):\n",
    "    def __init__(self, input_shape=28*28, num_classes=10, input_channels=1):\n",
    "        super(self.__class__, self).__init__()\n",
    "        self.model = nn.Sequential(\n",
    "            nn.Flatten(), # This layer converts image into a vector to use Linear layers afterwards\n",
    "            # Your network structure comes here\n",
    "            nn.Linear(input_shape, 500),\n",
    "            nn.ReLU(),\n",
    "            nn.Dropout(p=0.5),\n",
    "            nn.BatchNorm1d(500),\n",
    "            nn.Linear(500, 200),\n",
    "            nn.ReLU(),\n",
    "            nn.BatchNorm1d(200),\n",
    "            # nn.Dropout(p=0.5)\n",
    "            nn.Linear(200, 50),\n",
    "            nn.ReLU(),\n",
    "            nn.Dropout(p=0.2),\n",
    "            nn.BatchNorm1d(50),\n",
    "            nn.Linear(50, num_classes)\n",
    "        )\n",
    "        \n",
    "    def forward(self, inp):       \n",
    "        out = self.model(inp)\n",
    "        return out"
   ]
  },
  {
   "cell_type": "code",
   "execution_count": 12,
   "metadata": {
    "colab": {
     "base_uri": "https://localhost:8080/"
    },
    "id": "PyPEBCqKuw7I",
    "outputId": "431a9807-9b48-4816-96c6-e75a65f5bb12"
   },
   "outputs": [
    {
     "name": "stdout",
     "output_type": "stream",
     "text": [
      "----------------------------------------------------------------\n",
      "        Layer (type)               Output Shape         Param #\n",
      "================================================================\n",
      "           Flatten-1                  [-1, 784]               0\n",
      "            Linear-2                  [-1, 500]         392,500\n",
      "              ReLU-3                  [-1, 500]               0\n",
      "           Dropout-4                  [-1, 500]               0\n",
      "       BatchNorm1d-5                  [-1, 500]           1,000\n",
      "            Linear-6                  [-1, 200]         100,200\n",
      "              ReLU-7                  [-1, 200]               0\n",
      "       BatchNorm1d-8                  [-1, 200]             400\n",
      "            Linear-9                   [-1, 50]          10,050\n",
      "             ReLU-10                   [-1, 50]               0\n",
      "          Dropout-11                   [-1, 50]               0\n",
      "      BatchNorm1d-12                   [-1, 50]             100\n",
      "           Linear-13                   [-1, 10]             510\n",
      "================================================================\n",
      "Total params: 504,760\n",
      "Trainable params: 504,760\n",
      "Non-trainable params: 0\n",
      "----------------------------------------------------------------\n",
      "Input size (MB): 0.00\n",
      "Forward/backward pass size (MB): 0.03\n",
      "Params size (MB): 1.93\n",
      "Estimated Total Size (MB): 1.96\n",
      "----------------------------------------------------------------\n"
     ]
    }
   ],
   "source": [
    "torchsummary.summary(FixedNeuralNetwork().to(device), (28*28,))"
   ]
  },
  {
   "cell_type": "code",
   "execution_count": 13,
   "metadata": {
    "id": "M0Cp8ogKuw7I"
   },
   "outputs": [],
   "source": [
    "model = FixedNeuralNetwork().to(device)\n",
    "opt = torch.optim.Adam(model.parameters(), lr=0.006)\n",
    "loss_func = nn.CrossEntropyLoss()"
   ]
  },
  {
   "cell_type": "code",
   "execution_count": 14,
   "metadata": {
    "colab": {
     "base_uri": "https://localhost:8080/"
    },
    "id": "JugLh01FUjOi",
    "outputId": "733a96c8-7b01-4497-857d-b659466b475b"
   },
   "outputs": [
    {
     "name": "stdout",
     "output_type": "stream",
     "text": [
      "Epoch 1 of 40 took 6.806s\n",
      "\t  training loss: 0.619260\n",
      "\tvalidation loss: 0.470373\n",
      "\tvalidation accuracy: 0.827\n",
      "Epoch 2 of 40 took 7.228s\n",
      "\t  training loss: 0.520833\n",
      "\tvalidation loss: 0.439277\n",
      "\tvalidation accuracy: 0.846\n",
      "Epoch 3 of 40 took 8.239s\n",
      "\t  training loss: 0.491233\n",
      "\tvalidation loss: 0.442534\n",
      "\tvalidation accuracy: 0.846\n",
      "Epoch 4 of 40 took 9.274s\n",
      "\t  training loss: 0.479354\n",
      "\tvalidation loss: 0.436271\n",
      "\tvalidation accuracy: 0.851\n",
      "Epoch 5 of 40 took 8.403s\n",
      "\t  training loss: 0.460410\n",
      "\tvalidation loss: 0.456843\n",
      "\tvalidation accuracy: 0.855\n",
      "Epoch 6 of 40 took 8.448s\n",
      "\t  training loss: 0.447926\n",
      "\tvalidation loss: 0.400166\n",
      "\tvalidation accuracy: 0.863\n",
      "Epoch 7 of 40 took 8.496s\n",
      "\t  training loss: 0.440776\n",
      "\tvalidation loss: 0.473274\n",
      "\tvalidation accuracy: 0.854\n",
      "Epoch 8 of 40 took 8.587s\n",
      "\t  training loss: 0.428593\n",
      "\tvalidation loss: 0.407374\n",
      "\tvalidation accuracy: 0.856\n",
      "Epoch 9 of 40 took 8.698s\n",
      "\t  training loss: 0.431444\n",
      "\tvalidation loss: 0.453116\n",
      "\tvalidation accuracy: 0.867\n",
      "Epoch 10 of 40 took 8.905s\n",
      "\t  training loss: 0.432511\n",
      "\tvalidation loss: 0.448576\n",
      "\tvalidation accuracy: 0.854\n",
      "Epoch 11 of 40 took 9.039s\n",
      "\t  training loss: 0.420121\n",
      "\tvalidation loss: 0.399115\n",
      "\tvalidation accuracy: 0.861\n",
      "Epoch 12 of 40 took 9.092s\n",
      "\t  training loss: 0.412102\n",
      "\tvalidation loss: 0.386785\n",
      "\tvalidation accuracy: 0.867\n",
      "Epoch 13 of 40 took 9.603s\n",
      "\t  training loss: 0.405211\n",
      "\tvalidation loss: 0.385059\n",
      "\tvalidation accuracy: 0.863\n",
      "Epoch 14 of 40 took 8.820s\n",
      "\t  training loss: 0.408666\n",
      "\tvalidation loss: 0.431537\n",
      "\tvalidation accuracy: 0.863\n",
      "Epoch 15 of 40 took 8.842s\n",
      "\t  training loss: 0.403282\n",
      "\tvalidation loss: 0.402081\n",
      "\tvalidation accuracy: 0.861\n",
      "Epoch 16 of 40 took 9.217s\n",
      "\t  training loss: 0.401419\n",
      "\tvalidation loss: 0.396071\n",
      "\tvalidation accuracy: 0.867\n",
      "Epoch 17 of 40 took 8.932s\n",
      "\t  training loss: 0.392467\n",
      "\tvalidation loss: 0.401669\n",
      "\tvalidation accuracy: 0.859\n",
      "Epoch 18 of 40 took 9.216s\n",
      "\t  training loss: 0.391184\n",
      "\tvalidation loss: 0.460226\n",
      "\tvalidation accuracy: 0.867\n",
      "Epoch 19 of 40 took 9.347s\n",
      "\t  training loss: 0.385876\n",
      "\tvalidation loss: 0.377135\n",
      "\tvalidation accuracy: 0.873\n",
      "Epoch 20 of 40 took 9.201s\n",
      "\t  training loss: 0.386916\n",
      "\tvalidation loss: 0.377427\n",
      "\tvalidation accuracy: 0.866\n",
      "Epoch 21 of 40 took 8.786s\n",
      "\t  training loss: 0.380444\n",
      "\tvalidation loss: 0.376760\n",
      "\tvalidation accuracy: 0.868\n",
      "Epoch 22 of 40 took 9.100s\n",
      "\t  training loss: 0.375195\n",
      "\tvalidation loss: 0.405466\n",
      "\tvalidation accuracy: 0.864\n",
      "Epoch 23 of 40 took 10.708s\n",
      "\t  training loss: 0.373759\n",
      "\tvalidation loss: 0.377742\n",
      "\tvalidation accuracy: 0.869\n",
      "Epoch 24 of 40 took 10.274s\n",
      "\t  training loss: 0.372078\n",
      "\tvalidation loss: 0.388490\n",
      "\tvalidation accuracy: 0.872\n",
      "Epoch 25 of 40 took 9.257s\n",
      "\t  training loss: 0.370627\n",
      "\tvalidation loss: 0.390739\n",
      "\tvalidation accuracy: 0.873\n",
      "Epoch 26 of 40 took 9.148s\n",
      "\t  training loss: 0.369897\n",
      "\tvalidation loss: 0.388467\n",
      "\tvalidation accuracy: 0.875\n",
      "Epoch 27 of 40 took 8.759s\n",
      "\t  training loss: 0.366530\n",
      "\tvalidation loss: 0.405801\n",
      "\tvalidation accuracy: 0.872\n",
      "Epoch 28 of 40 took 9.083s\n",
      "\t  training loss: 0.368185\n",
      "\tvalidation loss: 0.370671\n",
      "\tvalidation accuracy: 0.880\n",
      "Epoch 29 of 40 took 8.708s\n",
      "\t  training loss: 0.363304\n",
      "\tvalidation loss: 0.430819\n",
      "\tvalidation accuracy: 0.875\n",
      "Epoch 30 of 40 took 9.784s\n",
      "\t  training loss: 0.367177\n",
      "\tvalidation loss: 0.374477\n",
      "\tvalidation accuracy: 0.875\n",
      "Epoch 31 of 40 took 9.025s\n",
      "\t  training loss: 0.361906\n",
      "\tvalidation loss: 0.371275\n",
      "\tvalidation accuracy: 0.877\n",
      "Epoch 32 of 40 took 9.107s\n",
      "\t  training loss: 0.354895\n",
      "\tvalidation loss: 0.363063\n",
      "\tvalidation accuracy: 0.878\n",
      "Epoch 33 of 40 took 8.721s\n",
      "\t  training loss: 0.355360\n",
      "\tvalidation loss: 0.389924\n",
      "\tvalidation accuracy: 0.873\n",
      "Epoch 34 of 40 took 8.710s\n",
      "\t  training loss: 0.355285\n",
      "\tvalidation loss: 0.365005\n",
      "\tvalidation accuracy: 0.875\n",
      "Epoch 35 of 40 took 8.652s\n",
      "\t  training loss: 0.354695\n",
      "\tvalidation loss: 0.392267\n",
      "\tvalidation accuracy: 0.875\n",
      "Epoch 36 of 40 took 8.518s\n",
      "\t  training loss: 0.350920\n",
      "\tvalidation loss: 0.350140\n",
      "\tvalidation accuracy: 0.877\n",
      "Epoch 37 of 40 took 8.724s\n",
      "\t  training loss: 0.349473\n",
      "\tvalidation loss: 0.368978\n",
      "\tvalidation accuracy: 0.878\n",
      "Epoch 38 of 40 took 8.842s\n",
      "\t  training loss: 0.349666\n",
      "\tvalidation loss: 0.422671\n",
      "\tvalidation accuracy: 0.881\n",
      "Epoch 39 of 40 took 8.917s\n",
      "\t  training loss: 0.343198\n",
      "\tvalidation loss: 0.347081\n",
      "\tvalidation accuracy: 0.881\n",
      "Epoch 40 of 40 took 8.677s\n",
      "\t  training loss: 0.348536\n",
      "\tvalidation loss: 0.358161\n",
      "\tvalidation accuracy: 0.883\n"
     ]
    }
   ],
   "source": [
    "n_epochs = 40\n",
    "\n",
    "train_loss, val_loss, val_accuracy = train_model(model, train_loader, test_loader, loss_func, opt, n_epochs)"
   ]
  },
  {
   "cell_type": "code",
   "execution_count": 15,
   "metadata": {
    "colab": {
     "base_uri": "https://localhost:8080/",
     "height": 336
    },
    "id": "6URrVX72UyA6",
    "outputId": "07da00b2-aa8c-47b7-e680-633da3fc961a"
   },
   "outputs": [
    {
     "data": {
      "image/png": "[encoded data removed]",
      "text/plain": [
       "<Figure size 1080x360 with 2 Axes>"
      ]
     },
     "metadata": {
      "needs_background": "light"
     },
     "output_type": "display_data"
    }
   ],
   "source": [
    "plot_train_process(train_loss, val_loss, val_accuracy)"
   ]
  },
  {
   "cell_type": "markdown",
   "metadata": {
    "id": "dMui_uLJ7G0d"
   },
   "source": [
    "### Conclusions:\n",
    "_Write down small report with your conclusions and your ideas._"
   ]
  },
  {
   "cell_type": "markdown",
   "metadata": {
    "id": "e-0RICP2v3ds"
   },
   "source": [
    "Первая модель оказалась лучше всего, так как мы имеем всего 60к наблюдений для обучения.\n",
    "\n",
    "Вторая модель переобучена.\n",
    "\n",
    "Третья модель имеет 500к параметров, что слишком много для 60к наблюдений, то есть ей не хватает выборки, чтобы обучиться."
   ]
  },
  {
   "cell_type": "code",
   "execution_count": null,
   "metadata": {},
   "outputs": [],
   "source": []
  }
 ],
 "metadata": {
  "accelerator": "GPU",
  "colab": {
   "collapsed_sections": [],
   "name": "Lab3_DL_part2_overfitting.ipynb",
   "provenance": []
  },
  "kernelspec": {
   "display_name": "Python 3",
   "language": "python",
   "name": "python3"
  },
  "language_info": {
   "codemirror_mode": {
    "name": "ipython",
    "version": 3
   },
   "file_extension": ".py",
   "mimetype": "text/x-python",
   "name": "python",
   "nbconvert_exporter": "python",
   "pygments_lexer": "ipython3",
   "version": "3.8.3"
  },
  "widgets": {
   "application/vnd.jupyter.widget-state+json": {
    "0141b30418444006823e5581d304dca5": {
     "model_module": "@jupyter-widgets/controls",
     "model_name": "HTMLModel",
     "state": {
      "_dom_classes": [],
      "_model_module": "@jupyter-widgets/controls",
      "_model_module_version": "1.5.0",
      "_model_name": "HTMLModel",
      "_view_count": null,
      "_view_module": "@jupyter-widgets/controls",
      "_view_module_version": "1.5.0",
      "_view_name": "HTMLView",
      "description": "",
      "description_tooltip": null,
      "layout": "IPY_MODEL_7d47bd3f1ea3473fb375b7ad7f6a6031",
      "placeholder": "​",
      "style": "IPY_MODEL_fa5ed42311404e59b633e517b90e2ee4",
      "value": " 8192/? [00:00&lt;00:00, 14940.10it/s]"
     }
    },
    "070c25fbbffc4167b2aa34d8abbcfdaa": {
     "model_module": "@jupyter-widgets/controls",
     "model_name": "ProgressStyleModel",
     "state": {
      "_model_module": "@jupyter-widgets/controls",
      "_model_module_version": "1.5.0",
      "_model_name": "ProgressStyleModel",
      "_view_count": null,
      "_view_module": "@jupyter-widgets/base",
      "_view_module_version": "1.2.0",
      "_view_name": "StyleView",
      "bar_color": null,
      "description_width": "initial"
     }
    },
    "0778ef7f9c00458a86dd98b5ae05879a": {
     "model_module": "@jupyter-widgets/controls",
     "model_name": "DescriptionStyleModel",
     "state": {
      "_model_module": "@jupyter-widgets/controls",
      "_model_module_version": "1.5.0",
      "_model_name": "DescriptionStyleModel",
      "_view_count": null,
      "_view_module": "@jupyter-widgets/base",
      "_view_module_version": "1.2.0",
      "_view_name": "StyleView",
      "description_width": ""
     }
    },
    "0e0f4c3058d648d7b30c2c8e43e0079f": {
     "model_module": "@jupyter-widgets/controls",
     "model_name": "ProgressStyleModel",
     "state": {
      "_model_module": "@jupyter-widgets/controls",
      "_model_module_version": "1.5.0",
      "_model_name": "ProgressStyleModel",
      "_view_count": null,
      "_view_module": "@jupyter-widgets/base",
      "_view_module_version": "1.2.0",
      "_view_name": "StyleView",
      "bar_color": null,
      "description_width": "initial"
     }
    },
    "1bcb0fb0856e4a56b887fa52670ab7d0": {
     "model_module": "@jupyter-widgets/base",
     "model_name": "LayoutModel",
     "state": {
      "_model_module": "@jupyter-widgets/base",
      "_model_module_version": "1.2.0",
      "_model_name": "LayoutModel",
      "_view_count": null,
      "_view_module": "@jupyter-widgets/base",
      "_view_module_version": "1.2.0",
      "_view_name": "LayoutView",
      "align_content": null,
      "align_items": null,
      "align_self": null,
      "border": null,
      "bottom": null,
      "display": null,
      "flex": null,
      "flex_flow": null,
      "grid_area": null,
      "grid_auto_columns": null,
      "grid_auto_flow": null,
      "grid_auto_rows": null,
      "grid_column": null,
      "grid_gap": null,
      "grid_row": null,
      "grid_template_areas": null,
      "grid_template_columns": null,
      "grid_template_rows": null,
      "height": null,
      "justify_content": null,
      "justify_items": null,
      "left": null,
      "margin": null,
      "max_height": null,
      "max_width": null,
      "min_height": null,
      "min_width": null,
      "object_fit": null,
      "object_position": null,
      "order": null,
      "overflow": null,
      "overflow_x": null,
      "overflow_y": null,
      "padding": null,
      "right": null,
      "top": null,
      "visibility": null,
      "width": null
     }
    },
    "24f290c2b49147379bcec131f985b0c3": {
     "model_module": "@jupyter-widgets/base",
     "model_name": "LayoutModel",
     "state": {
      "_model_module": "@jupyter-widgets/base",
      "_model_module_version": "1.2.0",
      "_model_name": "LayoutModel",
      "_view_count": null,
      "_view_module": "@jupyter-widgets/base",
      "_view_module_version": "1.2.0",
      "_view_name": "LayoutView",
      "align_content": null,
      "align_items": null,
      "align_self": null,
      "border": null,
      "bottom": null,
      "display": null,
      "flex": null,
      "flex_flow": null,
      "grid_area": null,
      "grid_auto_columns": null,
      "grid_auto_flow": null,
      "grid_auto_rows": null,
      "grid_column": null,
      "grid_gap": null,
      "grid_row": null,
      "grid_template_areas": null,
      "grid_template_columns": null,
      "grid_template_rows": null,
      "height": null,
      "justify_content": null,
      "justify_items": null,
      "left": null,
      "margin": null,
      "max_height": null,
      "max_width": null,
      "min_height": null,
      "min_width": null,
      "object_fit": null,
      "object_position": null,
      "order": null,
      "overflow": null,
      "overflow_x": null,
      "overflow_y": null,
      "padding": null,
      "right": null,
      "top": null,
      "visibility": null,
      "width": null
     }
    },
    "2854e6239bcc48feb24da4e65a671554": {
     "model_module": "@jupyter-widgets/controls",
     "model_name": "HBoxModel",
     "state": {
      "_dom_classes": [],
      "_model_module": "@jupyter-widgets/controls",
      "_model_module_version": "1.5.0",
      "_model_name": "HBoxModel",
      "_view_count": null,
      "_view_module": "@jupyter-widgets/controls",
      "_view_module_version": "1.5.0",
      "_view_name": "HBoxView",
      "box_style": "",
      "children": [
       "IPY_MODEL_b855337e5a2745ae9bfd66859892667f",
       "IPY_MODEL_afe3093eadca44739ef81052e6e440cc"
      ],
      "layout": "IPY_MODEL_9d711011189a4c68b8d66aeedd5df830"
     }
    },
    "2b0c86b55c7543288ef43a8f79b2c512": {
     "model_module": "@jupyter-widgets/controls",
     "model_name": "ProgressStyleModel",
     "state": {
      "_model_module": "@jupyter-widgets/controls",
      "_model_module_version": "1.5.0",
      "_model_name": "ProgressStyleModel",
      "_view_count": null,
      "_view_module": "@jupyter-widgets/base",
      "_view_module_version": "1.2.0",
      "_view_name": "StyleView",
      "bar_color": null,
      "description_width": "initial"
     }
    },
    "2c364949d7df4bf9a312d636f72f17a3": {
     "model_module": "@jupyter-widgets/base",
     "model_name": "LayoutModel",
     "state": {
      "_model_module": "@jupyter-widgets/base",
      "_model_module_version": "1.2.0",
      "_model_name": "LayoutModel",
      "_view_count": null,
      "_view_module": "@jupyter-widgets/base",
      "_view_module_version": "1.2.0",
      "_view_name": "LayoutView",
      "align_content": null,
      "align_items": null,
      "align_self": null,
      "border": null,
      "bottom": null,
      "display": null,
      "flex": null,
      "flex_flow": null,
      "grid_area": null,
      "grid_auto_columns": null,
      "grid_auto_flow": null,
      "grid_auto_rows": null,
      "grid_column": null,
      "grid_gap": null,
      "grid_row": null,
      "grid_template_areas": null,
      "grid_template_columns": null,
      "grid_template_rows": null,
      "height": null,
      "justify_content": null,
      "justify_items": null,
      "left": null,
      "margin": null,
      "max_height": null,
      "max_width": null,
      "min_height": null,
      "min_width": null,
      "object_fit": null,
      "object_position": null,
      "order": null,
      "overflow": null,
      "overflow_x": null,
      "overflow_y": null,
      "padding": null,
      "right": null,
      "top": null,
      "visibility": null,
      "width": null
     }
    },
    "2e633ec0a1294f99b33734790ed7407c": {
     "model_module": "@jupyter-widgets/controls",
     "model_name": "HBoxModel",
     "state": {
      "_dom_classes": [],
      "_model_module": "@jupyter-widgets/controls",
      "_model_module_version": "1.5.0",
      "_model_name": "HBoxModel",
      "_view_count": null,
      "_view_module": "@jupyter-widgets/controls",
      "_view_module_version": "1.5.0",
      "_view_name": "HBoxView",
      "box_style": "",
      "children": [
       "IPY_MODEL_ecee7c246c0e4ee19a56a7e47f9b95c3",
       "IPY_MODEL_9303030bb6ea4db79827c27fb8ef6e88"
      ],
      "layout": "IPY_MODEL_49ad10a2e47f49d7b4a64fa1c79092ac"
     }
    },
    "35bd63f7162546989bc4a28a4dbe182e": {
     "model_module": "@jupyter-widgets/controls",
     "model_name": "DescriptionStyleModel",
     "state": {
      "_model_module": "@jupyter-widgets/controls",
      "_model_module_version": "1.5.0",
      "_model_name": "DescriptionStyleModel",
      "_view_count": null,
      "_view_module": "@jupyter-widgets/base",
      "_view_module_version": "1.2.0",
      "_view_name": "StyleView",
      "description_width": ""
     }
    },
    "3ef41655b9e04893863d45a4c039dc48": {
     "model_module": "@jupyter-widgets/base",
     "model_name": "LayoutModel",
     "state": {
      "_model_module": "@jupyter-widgets/base",
      "_model_module_version": "1.2.0",
      "_model_name": "LayoutModel",
      "_view_count": null,
      "_view_module": "@jupyter-widgets/base",
      "_view_module_version": "1.2.0",
      "_view_name": "LayoutView",
      "align_content": null,
      "align_items": null,
      "align_self": null,
      "border": null,
      "bottom": null,
      "display": null,
      "flex": null,
      "flex_flow": null,
      "grid_area": null,
      "grid_auto_columns": null,
      "grid_auto_flow": null,
      "grid_auto_rows": null,
      "grid_column": null,
      "grid_gap": null,
      "grid_row": null,
      "grid_template_areas": null,
      "grid_template_columns": null,
      "grid_template_rows": null,
      "height": null,
      "justify_content": null,
      "justify_items": null,
      "left": null,
      "margin": null,
      "max_height": null,
      "max_width": null,
      "min_height": null,
      "min_width": null,
      "object_fit": null,
      "object_position": null,
      "order": null,
      "overflow": null,
      "overflow_x": null,
      "overflow_y": null,
      "padding": null,
      "right": null,
      "top": null,
      "visibility": null,
      "width": null
     }
    },
    "421f202288404dd992899b49425c06f1": {
     "model_module": "@jupyter-widgets/base",
     "model_name": "LayoutModel",
     "state": {
      "_model_module": "@jupyter-widgets/base",
      "_model_module_version": "1.2.0",
      "_model_name": "LayoutModel",
      "_view_count": null,
      "_view_module": "@jupyter-widgets/base",
      "_view_module_version": "1.2.0",
      "_view_name": "LayoutView",
      "align_content": null,
      "align_items": null,
      "align_self": null,
      "border": null,
      "bottom": null,
      "display": null,
      "flex": null,
      "flex_flow": null,
      "grid_area": null,
      "grid_auto_columns": null,
      "grid_auto_flow": null,
      "grid_auto_rows": null,
      "grid_column": null,
      "grid_gap": null,
      "grid_row": null,
      "grid_template_areas": null,
      "grid_template_columns": null,
      "grid_template_rows": null,
      "height": null,
      "justify_content": null,
      "justify_items": null,
      "left": null,
      "margin": null,
      "max_height": null,
      "max_width": null,
      "min_height": null,
      "min_width": null,
      "object_fit": null,
      "object_position": null,
      "order": null,
      "overflow": null,
      "overflow_x": null,
      "overflow_y": null,
      "padding": null,
      "right": null,
      "top": null,
      "visibility": null,
      "width": null
     }
    },
    "49ad10a2e47f49d7b4a64fa1c79092ac": {
     "model_module": "@jupyter-widgets/base",
     "model_name": "LayoutModel",
     "state": {
      "_model_module": "@jupyter-widgets/base",
      "_model_module_version": "1.2.0",
      "_model_name": "LayoutModel",
      "_view_count": null,
      "_view_module": "@jupyter-widgets/base",
      "_view_module_version": "1.2.0",
      "_view_name": "LayoutView",
      "align_content": null,
      "align_items": null,
      "align_self": null,
      "border": null,
      "bottom": null,
      "display": null,
      "flex": null,
      "flex_flow": null,
      "grid_area": null,
      "grid_auto_columns": null,
      "grid_auto_flow": null,
      "grid_auto_rows": null,
      "grid_column": null,
      "grid_gap": null,
      "grid_row": null,
      "grid_template_areas": null,
      "grid_template_columns": null,
      "grid_template_rows": null,
      "height": null,
      "justify_content": null,
      "justify_items": null,
      "left": null,
      "margin": null,
      "max_height": null,
      "max_width": null,
      "min_height": null,
      "min_width": null,
      "object_fit": null,
      "object_position": null,
      "order": null,
      "overflow": null,
      "overflow_x": null,
      "overflow_y": null,
      "padding": null,
      "right": null,
      "top": null,
      "visibility": null,
      "width": null
     }
    },
    "4e23cb0e21f044eb8e6cd21828fe0435": {
     "model_module": "@jupyter-widgets/controls",
     "model_name": "FloatProgressModel",
     "state": {
      "_dom_classes": [],
      "_model_module": "@jupyter-widgets/controls",
      "_model_module_version": "1.5.0",
      "_model_name": "FloatProgressModel",
      "_view_count": null,
      "_view_module": "@jupyter-widgets/controls",
      "_view_module_version": "1.5.0",
      "_view_name": "ProgressView",
      "bar_style": "success",
      "description": "",
      "description_tooltip": null,
      "layout": "IPY_MODEL_eb881d83569c462083db7c156d86ad62",
      "max": 1,
      "min": 0,
      "orientation": "horizontal",
      "style": "IPY_MODEL_070c25fbbffc4167b2aa34d8abbcfdaa",
      "value": 1
     }
    },
    "79b604c9f4904ce29d11dc2c24b40b8c": {
     "model_module": "@jupyter-widgets/base",
     "model_name": "LayoutModel",
     "state": {
      "_model_module": "@jupyter-widgets/base",
      "_model_module_version": "1.2.0",
      "_model_name": "LayoutModel",
      "_view_count": null,
      "_view_module": "@jupyter-widgets/base",
      "_view_module_version": "1.2.0",
      "_view_name": "LayoutView",
      "align_content": null,
      "align_items": null,
      "align_self": null,
      "border": null,
      "bottom": null,
      "display": null,
      "flex": null,
      "flex_flow": null,
      "grid_area": null,
      "grid_auto_columns": null,
      "grid_auto_flow": null,
      "grid_auto_rows": null,
      "grid_column": null,
      "grid_gap": null,
      "grid_row": null,
      "grid_template_areas": null,
      "grid_template_columns": null,
      "grid_template_rows": null,
      "height": null,
      "justify_content": null,
      "justify_items": null,
      "left": null,
      "margin": null,
      "max_height": null,
      "max_width": null,
      "min_height": null,
      "min_width": null,
      "object_fit": null,
      "object_position": null,
      "order": null,
      "overflow": null,
      "overflow_x": null,
      "overflow_y": null,
      "padding": null,
      "right": null,
      "top": null,
      "visibility": null,
      "width": null
     }
    },
    "7d47bd3f1ea3473fb375b7ad7f6a6031": {
     "model_module": "@jupyter-widgets/base",
     "model_name": "LayoutModel",
     "state": {
      "_model_module": "@jupyter-widgets/base",
      "_model_module_version": "1.2.0",
      "_model_name": "LayoutModel",
      "_view_count": null,
      "_view_module": "@jupyter-widgets/base",
      "_view_module_version": "1.2.0",
      "_view_name": "LayoutView",
      "align_content": null,
      "align_items": null,
      "align_self": null,
      "border": null,
      "bottom": null,
      "display": null,
      "flex": null,
      "flex_flow": null,
      "grid_area": null,
      "grid_auto_columns": null,
      "grid_auto_flow": null,
      "grid_auto_rows": null,
      "grid_column": null,
      "grid_gap": null,
      "grid_row": null,
      "grid_template_areas": null,
      "grid_template_columns": null,
      "grid_template_rows": null,
      "height": null,
      "justify_content": null,
      "justify_items": null,
      "left": null,
      "margin": null,
      "max_height": null,
      "max_width": null,
      "min_height": null,
      "min_width": null,
      "object_fit": null,
      "object_position": null,
      "order": null,
      "overflow": null,
      "overflow_x": null,
      "overflow_y": null,
      "padding": null,
      "right": null,
      "top": null,
      "visibility": null,
      "width": null
     }
    },
    "8909dc7b2b934b5b97b6b2f2eb9690b4": {
     "model_module": "@jupyter-widgets/controls",
     "model_name": "HBoxModel",
     "state": {
      "_dom_classes": [],
      "_model_module": "@jupyter-widgets/controls",
      "_model_module_version": "1.5.0",
      "_model_name": "HBoxModel",
      "_view_count": null,
      "_view_module": "@jupyter-widgets/controls",
      "_view_module_version": "1.5.0",
      "_view_name": "HBoxView",
      "box_style": "",
      "children": [
       "IPY_MODEL_e6d30e3fbe3e45d29be341c586e2538a",
       "IPY_MODEL_0141b30418444006823e5581d304dca5"
      ],
      "layout": "IPY_MODEL_d5da60c37acf4a5ebba208ce72be2099"
     }
    },
    "9303030bb6ea4db79827c27fb8ef6e88": {
     "model_module": "@jupyter-widgets/controls",
     "model_name": "HTMLModel",
     "state": {
      "_dom_classes": [],
      "_model_module": "@jupyter-widgets/controls",
      "_model_module_version": "1.5.0",
      "_model_name": "HTMLModel",
      "_view_count": null,
      "_view_module": "@jupyter-widgets/controls",
      "_view_module_version": "1.5.0",
      "_view_name": "HTMLView",
      "description": "",
      "description_tooltip": null,
      "layout": "IPY_MODEL_9dc517f0f02b465c9c3426ec2d7ff54a",
      "placeholder": "​",
      "style": "IPY_MODEL_0778ef7f9c00458a86dd98b5ae05879a",
      "value": " 26427392/? [00:19&lt;00:00, 4748963.66it/s]"
     }
    },
    "9d711011189a4c68b8d66aeedd5df830": {
     "model_module": "@jupyter-widgets/base",
     "model_name": "LayoutModel",
     "state": {
      "_model_module": "@jupyter-widgets/base",
      "_model_module_version": "1.2.0",
      "_model_name": "LayoutModel",
      "_view_count": null,
      "_view_module": "@jupyter-widgets/base",
      "_view_module_version": "1.2.0",
      "_view_name": "LayoutView",
      "align_content": null,
      "align_items": null,
      "align_self": null,
      "border": null,
      "bottom": null,
      "display": null,
      "flex": null,
      "flex_flow": null,
      "grid_area": null,
      "grid_auto_columns": null,
      "grid_auto_flow": null,
      "grid_auto_rows": null,
      "grid_column": null,
      "grid_gap": null,
      "grid_row": null,
      "grid_template_areas": null,
      "grid_template_columns": null,
      "grid_template_rows": null,
      "height": null,
      "justify_content": null,
      "justify_items": null,
      "left": null,
      "margin": null,
      "max_height": null,
      "max_width": null,
      "min_height": null,
      "min_width": null,
      "object_fit": null,
      "object_position": null,
      "order": null,
      "overflow": null,
      "overflow_x": null,
      "overflow_y": null,
      "padding": null,
      "right": null,
      "top": null,
      "visibility": null,
      "width": null
     }
    },
    "9dc517f0f02b465c9c3426ec2d7ff54a": {
     "model_module": "@jupyter-widgets/base",
     "model_name": "LayoutModel",
     "state": {
      "_model_module": "@jupyter-widgets/base",
      "_model_module_version": "1.2.0",
      "_model_name": "LayoutModel",
      "_view_count": null,
      "_view_module": "@jupyter-widgets/base",
      "_view_module_version": "1.2.0",
      "_view_name": "LayoutView",
      "align_content": null,
      "align_items": null,
      "align_self": null,
      "border": null,
      "bottom": null,
      "display": null,
      "flex": null,
      "flex_flow": null,
      "grid_area": null,
      "grid_auto_columns": null,
      "grid_auto_flow": null,
      "grid_auto_rows": null,
      "grid_column": null,
      "grid_gap": null,
      "grid_row": null,
      "grid_template_areas": null,
      "grid_template_columns": null,
      "grid_template_rows": null,
      "height": null,
      "justify_content": null,
      "justify_items": null,
      "left": null,
      "margin": null,
      "max_height": null,
      "max_width": null,
      "min_height": null,
      "min_width": null,
      "object_fit": null,
      "object_position": null,
      "order": null,
      "overflow": null,
      "overflow_x": null,
      "overflow_y": null,
      "padding": null,
      "right": null,
      "top": null,
      "visibility": null,
      "width": null
     }
    },
    "afe3093eadca44739ef81052e6e440cc": {
     "model_module": "@jupyter-widgets/controls",
     "model_name": "HTMLModel",
     "state": {
      "_dom_classes": [],
      "_model_module": "@jupyter-widgets/controls",
      "_model_module_version": "1.5.0",
      "_model_name": "HTMLModel",
      "_view_count": null,
      "_view_module": "@jupyter-widgets/controls",
      "_view_module_version": "1.5.0",
      "_view_name": "HTMLView",
      "description": "",
      "description_tooltip": null,
      "layout": "IPY_MODEL_421f202288404dd992899b49425c06f1",
      "placeholder": "​",
      "style": "IPY_MODEL_b9c4549eb765441f9a00fe47257cc1a4",
      "value": " 0/29515 [00:00&lt;?, ?it/s]"
     }
    },
    "b855337e5a2745ae9bfd66859892667f": {
     "model_module": "@jupyter-widgets/controls",
     "model_name": "FloatProgressModel",
     "state": {
      "_dom_classes": [],
      "_model_module": "@jupyter-widgets/controls",
      "_model_module_version": "1.5.0",
      "_model_name": "FloatProgressModel",
      "_view_count": null,
      "_view_module": "@jupyter-widgets/controls",
      "_view_module_version": "1.5.0",
      "_view_name": "ProgressView",
      "bar_style": "info",
      "description": "  0%",
      "description_tooltip": null,
      "layout": "IPY_MODEL_24f290c2b49147379bcec131f985b0c3",
      "max": 1,
      "min": 0,
      "orientation": "horizontal",
      "style": "IPY_MODEL_cccbfeb7a3f342c49c2ca2a1138f5ad5",
      "value": 0
     }
    },
    "b9c4549eb765441f9a00fe47257cc1a4": {
     "model_module": "@jupyter-widgets/controls",
     "model_name": "DescriptionStyleModel",
     "state": {
      "_model_module": "@jupyter-widgets/controls",
      "_model_module_version": "1.5.0",
      "_model_name": "DescriptionStyleModel",
      "_view_count": null,
      "_view_module": "@jupyter-widgets/base",
      "_view_module_version": "1.2.0",
      "_view_name": "StyleView",
      "description_width": ""
     }
    },
    "cccbfeb7a3f342c49c2ca2a1138f5ad5": {
     "model_module": "@jupyter-widgets/controls",
     "model_name": "ProgressStyleModel",
     "state": {
      "_model_module": "@jupyter-widgets/controls",
      "_model_module_version": "1.5.0",
      "_model_name": "ProgressStyleModel",
      "_view_count": null,
      "_view_module": "@jupyter-widgets/base",
      "_view_module_version": "1.2.0",
      "_view_name": "StyleView",
      "bar_color": null,
      "description_width": "initial"
     }
    },
    "d5da60c37acf4a5ebba208ce72be2099": {
     "model_module": "@jupyter-widgets/base",
     "model_name": "LayoutModel",
     "state": {
      "_model_module": "@jupyter-widgets/base",
      "_model_module_version": "1.2.0",
      "_model_name": "LayoutModel",
      "_view_count": null,
      "_view_module": "@jupyter-widgets/base",
      "_view_module_version": "1.2.0",
      "_view_name": "LayoutView",
      "align_content": null,
      "align_items": null,
      "align_self": null,
      "border": null,
      "bottom": null,
      "display": null,
      "flex": null,
      "flex_flow": null,
      "grid_area": null,
      "grid_auto_columns": null,
      "grid_auto_flow": null,
      "grid_auto_rows": null,
      "grid_column": null,
      "grid_gap": null,
      "grid_row": null,
      "grid_template_areas": null,
      "grid_template_columns": null,
      "grid_template_rows": null,
      "height": null,
      "justify_content": null,
      "justify_items": null,
      "left": null,
      "margin": null,
      "max_height": null,
      "max_width": null,
      "min_height": null,
      "min_width": null,
      "object_fit": null,
      "object_position": null,
      "order": null,
      "overflow": null,
      "overflow_x": null,
      "overflow_y": null,
      "padding": null,
      "right": null,
      "top": null,
      "visibility": null,
      "width": null
     }
    },
    "e02da544b87f49b8b141cc3431e54c20": {
     "model_module": "@jupyter-widgets/controls",
     "model_name": "HTMLModel",
     "state": {
      "_dom_classes": [],
      "_model_module": "@jupyter-widgets/controls",
      "_model_module_version": "1.5.0",
      "_model_name": "HTMLModel",
      "_view_count": null,
      "_view_module": "@jupyter-widgets/controls",
      "_view_module_version": "1.5.0",
      "_view_name": "HTMLView",
      "description": "",
      "description_tooltip": null,
      "layout": "IPY_MODEL_1bcb0fb0856e4a56b887fa52670ab7d0",
      "placeholder": "​",
      "style": "IPY_MODEL_35bd63f7162546989bc4a28a4dbe182e",
      "value": " 4423680/? [00:01&lt;00:00, 2823225.65it/s]"
     }
    },
    "e6d30e3fbe3e45d29be341c586e2538a": {
     "model_module": "@jupyter-widgets/controls",
     "model_name": "FloatProgressModel",
     "state": {
      "_dom_classes": [],
      "_model_module": "@jupyter-widgets/controls",
      "_model_module_version": "1.5.0",
      "_model_name": "FloatProgressModel",
      "_view_count": null,
      "_view_module": "@jupyter-widgets/controls",
      "_view_module_version": "1.5.0",
      "_view_name": "ProgressView",
      "bar_style": "success",
      "description": "",
      "description_tooltip": null,
      "layout": "IPY_MODEL_2c364949d7df4bf9a312d636f72f17a3",
      "max": 1,
      "min": 0,
      "orientation": "horizontal",
      "style": "IPY_MODEL_2b0c86b55c7543288ef43a8f79b2c512",
      "value": 1
     }
    },
    "eb881d83569c462083db7c156d86ad62": {
     "model_module": "@jupyter-widgets/base",
     "model_name": "LayoutModel",
     "state": {
      "_model_module": "@jupyter-widgets/base",
      "_model_module_version": "1.2.0",
      "_model_name": "LayoutModel",
      "_view_count": null,
      "_view_module": "@jupyter-widgets/base",
      "_view_module_version": "1.2.0",
      "_view_name": "LayoutView",
      "align_content": null,
      "align_items": null,
      "align_self": null,
      "border": null,
      "bottom": null,
      "display": null,
      "flex": null,
      "flex_flow": null,
      "grid_area": null,
      "grid_auto_columns": null,
      "grid_auto_flow": null,
      "grid_auto_rows": null,
      "grid_column": null,
      "grid_gap": null,
      "grid_row": null,
      "grid_template_areas": null,
      "grid_template_columns": null,
      "grid_template_rows": null,
      "height": null,
      "justify_content": null,
      "justify_items": null,
      "left": null,
      "margin": null,
      "max_height": null,
      "max_width": null,
      "min_height": null,
      "min_width": null,
      "object_fit": null,
      "object_position": null,
      "order": null,
      "overflow": null,
      "overflow_x": null,
      "overflow_y": null,
      "padding": null,
      "right": null,
      "top": null,
      "visibility": null,
      "width": null
     }
    },
    "ecee7c246c0e4ee19a56a7e47f9b95c3": {
     "model_module": "@jupyter-widgets/controls",
     "model_name": "FloatProgressModel",
     "state": {
      "_dom_classes": [],
      "_model_module": "@jupyter-widgets/controls",
      "_model_module_version": "1.5.0",
      "_model_name": "FloatProgressModel",
      "_view_count": null,
      "_view_module": "@jupyter-widgets/controls",
      "_view_module_version": "1.5.0",
      "_view_name": "ProgressView",
      "bar_style": "info",
      "description": "",
      "description_tooltip": null,
      "layout": "IPY_MODEL_3ef41655b9e04893863d45a4c039dc48",
      "max": 1,
      "min": 0,
      "orientation": "horizontal",
      "style": "IPY_MODEL_0e0f4c3058d648d7b30c2c8e43e0079f",
      "value": 1
     }
    },
    "fa5ed42311404e59b633e517b90e2ee4": {
     "model_module": "@jupyter-widgets/controls",
     "model_name": "DescriptionStyleModel",
     "state": {
      "_model_module": "@jupyter-widgets/controls",
      "_model_module_version": "1.5.0",
      "_model_name": "DescriptionStyleModel",
      "_view_count": null,
      "_view_module": "@jupyter-widgets/base",
      "_view_module_version": "1.2.0",
      "_view_name": "StyleView",
      "description_width": ""
     }
    },
    "fe7d578a39b54ae9b58bb7dd20df86f3": {
     "model_module": "@jupyter-widgets/controls",
     "model_name": "HBoxModel",
     "state": {
      "_dom_classes": [],
      "_model_module": "@jupyter-widgets/controls",
      "_model_module_version": "1.5.0",
      "_model_name": "HBoxModel",
      "_view_count": null,
      "_view_module": "@jupyter-widgets/controls",
      "_view_module_version": "1.5.0",
      "_view_name": "HBoxView",
      "box_style": "",
      "children": [
       "IPY_MODEL_4e23cb0e21f044eb8e6cd21828fe0435",
       "IPY_MODEL_e02da544b87f49b8b141cc3431e54c20"
      ],
      "layout": "IPY_MODEL_79b604c9f4904ce29d11dc2c24b40b8c"
     }
    }
   }
  }
 },
 "nbformat": 4,
 "nbformat_minor": 4
}
