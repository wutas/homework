{
 "cells": [
  {
   "cell_type": "code",
   "execution_count": 7,
   "metadata": {},
   "outputs": [],
   "source": [
    "import numpy as np\n",
    "import matplotlib.pyplot as plt\n",
    "\n",
    "%matplotlib inline"
   ]
  },
  {
   "cell_type": "code",
   "execution_count": 46,
   "metadata": {},
   "outputs": [],
   "source": [
    "def f(x):\n",
    "    x1, x2 = x\n",
    "    return 100 * (x2 - x1**2)**2 + (1 - x1)**2\n",
    "\n",
    "def df(x):\n",
    "    x1, x2 = x\n",
    "    dx1 = -400 * (x2 - x1**2) * x1 - 2 * (1 - x1) \n",
    "    dx2 = 200 * (x2 - x1**2)\n",
    "    return np.array([dx1, dx2])\n",
    "\n",
    "x0_a = np.array([1.2, 1.2])\n",
    "x0_b = np.array([-1.2, 1.])\n",
    "\n",
    "def armiho(xk, alpha, eps = 0.01):\n",
    "    while f(xk - alpha * df(xk)) - f(xk) > eps * alpha * df(xk) @ df(xk):\n",
    "        alpha *= 0.5\n",
    "    return alpha\n",
    "\n",
    "def gd(x0, alpha = 0.05):\n",
    "    xk = x0.copy()\n",
    "    x_prev = None\n",
    "    y_hist = []\n",
    "    step_hist = []\n",
    "    while x_prev is None or abs(f(xk) - f(x_prev)) / f(xk) > 0.0000001:\n",
    "        x_prev = xk.copy()\n",
    "        cur_alpha = armiho(xk, alpha)\n",
    "        step_hist.append(np.sqrt(np.sum((cur_alpha * df(xk))**2)))\n",
    "        xk -= cur_alpha * df(xk)\n",
    "        y_hist.append(f(xk))\n",
    "\n",
    "    return xk, y_hist, step_hist"
   ]
  },
  {
   "cell_type": "code",
   "execution_count": 47,
   "metadata": {},
   "outputs": [],
   "source": [
    "xk_a, y_hist_a, step_hist_a = gd(x0_a)\n",
    "xk_b, y_hist_b, step_hist_b = gd(x0_b)"
   ]
  },
  {
   "cell_type": "code",
   "execution_count": 48,
   "metadata": {},
   "outputs": [
    {
     "name": "stdout",
     "output_type": "stream",
     "text": [
      "[1. 1.] [1.00002256 1.00004535]\n"
     ]
    }
   ],
   "source": [
    "print(xk_a, xk_b)"
   ]
  },
  {
   "cell_type": "code",
   "execution_count": 49,
   "metadata": {},
   "outputs": [
    {
     "data": {
      "text/plain": [
       "<matplotlib.legend.Legend at 0x7fdac62f0bd0>"
      ]
     },
     "execution_count": 49,
     "metadata": {},
     "output_type": "execute_result"
    },
    {
     "data": {
      "image/png": "[encoded data removed]",
      "text/plain": [
       "<Figure size 720x432 with 1 Axes>"
      ]
     },
     "metadata": {
      "needs_background": "light"
     },
     "output_type": "display_data"
    }
   ],
   "source": [
    "plt.figure(figsize=(10, 6))\n",
    "\n",
    "plt.plot(y_hist_a, label=f\"{x0_a}\")\n",
    "plt.plot(y_hist_b, label=f\"{x0_b}\")\n",
    "\n",
    "plt.legend()"
   ]
  },
  {
   "cell_type": "code",
   "execution_count": 50,
   "metadata": {},
   "outputs": [
    {
     "data": {
      "text/plain": [
       "<matplotlib.legend.Legend at 0x7fdac5fc4890>"
      ]
     },
     "execution_count": 50,
     "metadata": {},
     "output_type": "execute_result"
    },
    {
     "data": {
      "image/png": "[encoded data removed]",
      "text/plain": [
       "<Figure size 720x432 with 1 Axes>"
      ]
     },
     "metadata": {
      "needs_background": "light"
     },
     "output_type": "display_data"
    }
   ],
   "source": [
    "plt.figure(figsize=(10, 6))\n",
    "\n",
    "plt.plot(step_hist_a, label=f\"{x0_a}\")\n",
    "plt.plot(step_hist_b, label=f\"{x0_b}\")\n",
    "\n",
    "plt.legend()"
   ]
  },
  {
   "cell_type": "code",
   "execution_count": null,
   "metadata": {},
   "outputs": [],
   "source": []
  }
 ],
 "metadata": {
  "kernelspec": {
   "display_name": "Python 3",
   "language": "python",
   "name": "python3"
  },
  "language_info": {
   "codemirror_mode": {
    "name": "ipython",
    "version": 3
   },
   "file_extension": ".py",
   "mimetype": "text/x-python",
   "name": "python",
   "nbconvert_exporter": "python",
   "pygments_lexer": "ipython3",
   "version": "3.8.3"
  }
 },
 "nbformat": 4,
 "nbformat_minor": 4
}
